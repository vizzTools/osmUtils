{
 "cells": [
  {
   "cell_type": "code",
   "execution_count": 11,
   "metadata": {},
   "outputs": [],
   "source": [
    "import eeUtil\n",
    "import ee\n",
    "import os\n",
    "import geopandas as gpd"
   ]
  },
  {
   "cell_type": "code",
   "execution_count": 38,
   "metadata": {},
   "outputs": [
    {
     "name": "stdout",
     "output_type": "stream",
     "text": [
      "['GEE_JSON', 'GEE_PROJECT', 'GEE_STAGING_BUCKET', 'GEE_STAGING_BUCKET_FOLDER', 'POSTGRES_PASSWORD', 'POSTGRES_USER']\n"
     ]
    }
   ],
   "source": [
    "## env file for gcs upload\n",
    "\n",
    "if '.env' in os.listdir('./'):\n",
    "    env_path = \".env\"\n",
    "    with open(env_path) as f:\n",
    "        env = {}\n",
    "        for line in f:\n",
    "            env_key, _val = line.split(\"=\", 1)\n",
    "            env_value = _val.split(\"\\n\")[0]\n",
    "            env[env_key] = env_value\n",
    "    print(list(env.keys()))\n",
    "    \n",
    "else:\n",
    "    print('Must create .env file in local directory')"
   ]
  },
  {
   "cell_type": "code",
   "execution_count": 7,
   "metadata": {},
   "outputs": [],
   "source": [
    "\n",
    "# uploading to earthengine\n",
    "\n",
    "GEE_BUCKET = env.get('GEE_BUCKET') or 'ngs-gvl'\n",
    "GEE_JSON = env.get('GEE_JSON')\n",
    "PROJECT = env.get('GEE_PROJECT') or 'wings-203121'\n",
    "BUCKET_PFX = 'francis_indicators'\n",
    "\n",
    "eeUtil.init(credential_json=GEE_JSON, bucket=GEE_BUCKET, project=PROJECT)"
   ]
  },
  {
   "cell_type": "code",
   "execution_count": 36,
   "metadata": {},
   "outputs": [],
   "source": [
    "def exportToGEE(datadir, assetdir, asset_name):\n",
    "\n",
    "    # Initialize earthengine/google cloud credentials for uploading assets\n",
    "    eeUtil.init(credential_json=GEE_JSON, bucket=GEE_BUCKET, project=PROJECT)\n",
    "\n",
    "    file = os.path.join(datadir)\n",
    "    features = os.path.join(assetdir, asset_name)\n",
    "\n",
    "    # this will upload to google cloud storage then ingest into earthengine\n",
    "    # operates synchronously (i.e. will wait for it to complete)\n",
    "    eeUtil.upload(file, features, BUCKET_PFX, public=True)"
   ]
  },
  {
   "cell_type": "code",
   "execution_count": 37,
   "metadata": {},
   "outputs": [],
   "source": [
    "eeUtil.upload?"
   ]
  },
  {
   "cell_type": "code",
   "execution_count": null,
   "metadata": {},
   "outputs": [],
   "source": [
    "datadir='./tile_6_46_26.csv'\n",
    "ASSET_DIR = 'francis_indicators/OSM_vector_100m_grids'"
   ]
  },
  {
   "cell_type": "code",
   "execution_count": 31,
   "metadata": {},
   "outputs": [],
   "source": [
    "df = gpd.read_file('./tile_6_46_26_v2.shp')"
   ]
  },
  {
   "cell_type": "code",
   "execution_count": 32,
   "metadata": {},
   "outputs": [
    {
     "data": {
      "text/html": [
       "<div>\n",
       "<style scoped>\n",
       "    .dataframe tbody tr th:only-of-type {\n",
       "        vertical-align: middle;\n",
       "    }\n",
       "\n",
       "    .dataframe tbody tr th {\n",
       "        vertical-align: top;\n",
       "    }\n",
       "\n",
       "    .dataframe thead th {\n",
       "        text-align: right;\n",
       "    }\n",
       "</style>\n",
       "<table border=\"1\" class=\"dataframe\">\n",
       "  <thead>\n",
       "    <tr style=\"text-align: right;\">\n",
       "      <th></th>\n",
       "      <th>FID</th>\n",
       "      <th>geometry</th>\n",
       "    </tr>\n",
       "  </thead>\n",
       "  <tbody>\n",
       "    <tr>\n",
       "      <th>0</th>\n",
       "      <td>0</td>\n",
       "      <td>LINESTRING (81.92201 27.00731, 81.92273 27.010...</td>\n",
       "    </tr>\n",
       "    <tr>\n",
       "      <th>1</th>\n",
       "      <td>1</td>\n",
       "      <td>LINESTRING (82.24517 27.69452, 82.24477 27.694...</td>\n",
       "    </tr>\n",
       "    <tr>\n",
       "      <th>2</th>\n",
       "      <td>2</td>\n",
       "      <td>LINESTRING (83.74859 27.25134, 83.74922 27.250...</td>\n",
       "    </tr>\n",
       "    <tr>\n",
       "      <th>3</th>\n",
       "      <td>3</td>\n",
       "      <td>LINESTRING (83.72106 27.32077, 83.72084 27.321...</td>\n",
       "    </tr>\n",
       "    <tr>\n",
       "      <th>4</th>\n",
       "      <td>4</td>\n",
       "      <td>LINESTRING (80.66547 27.17057, 80.66590 27.170...</td>\n",
       "    </tr>\n",
       "  </tbody>\n",
       "</table>\n",
       "</div>"
      ],
      "text/plain": [
       "   FID                                           geometry\n",
       "0    0  LINESTRING (81.92201 27.00731, 81.92273 27.010...\n",
       "1    1  LINESTRING (82.24517 27.69452, 82.24477 27.694...\n",
       "2    2  LINESTRING (83.74859 27.25134, 83.74922 27.250...\n",
       "3    3  LINESTRING (83.72106 27.32077, 83.72084 27.321...\n",
       "4    4  LINESTRING (80.66547 27.17057, 80.66590 27.170..."
      ]
     },
     "execution_count": 32,
     "metadata": {},
     "output_type": "execute_result"
    }
   ],
   "source": [
    "df.head()"
   ]
  },
  {
   "cell_type": "code",
   "execution_count": 15,
   "metadata": {},
   "outputs": [],
   "source": [
    "df.to_csv(f'./tile_6_46_26.csv', index=False)"
   ]
  },
  {
   "cell_type": "code",
   "execution_count": 39,
   "metadata": {},
   "outputs": [],
   "source": [
    "def export_tile_to_GEE(datadir, ASSET_DIR, asset_name):   \n",
    "    try:\n",
    "        exportToGEE(datadir, ASSET_DIR, asset_name)\n",
    "        print('Succesfull uploaded!')\n",
    "    except:\n",
    "        print('Remote export to GEE failed')"
   ]
  },
  {
   "cell_type": "code",
   "execution_count": 40,
   "metadata": {},
   "outputs": [
    {
     "name": "stdout",
     "output_type": "stream",
     "text": [
      "Succesfull uploaded!\n"
     ]
    }
   ],
   "source": [
    "export_tile_to_GEE(datadir='./tile_6_46_26_v2.csv',\n",
    "                   ASSET_DIR = 'francis_indicators/OSM_vector_100m_grids',\n",
    "                   asset_name='tile_6_46_26')"
   ]
  },
  {
   "cell_type": "code",
   "execution_count": 25,
   "metadata": {},
   "outputs": [],
   "source": [
    "import pandas as pd"
   ]
  },
  {
   "cell_type": "code",
   "execution_count": 27,
   "metadata": {},
   "outputs": [],
   "source": [
    "df = pd.read_csv('./tile_6_46_26.csv')"
   ]
  },
  {
   "cell_type": "code",
   "execution_count": null,
   "metadata": {},
   "outputs": [],
   "source": []
  }
 ],
 "metadata": {
  "kernelspec": {
   "display_name": "Python 3",
   "language": "python",
   "name": "python3"
  },
  "language_info": {
   "codemirror_mode": {
    "name": "ipython",
    "version": 3
   },
   "file_extension": ".py",
   "mimetype": "text/x-python",
   "name": "python",
   "nbconvert_exporter": "python",
   "pygments_lexer": "ipython3",
   "version": "3.8.1"
  }
 },
 "nbformat": 4,
 "nbformat_minor": 4
}
