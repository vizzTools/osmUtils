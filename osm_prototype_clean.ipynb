{
 "cells": [
  {
   "cell_type": "markdown",
   "metadata": {},
   "source": [
    "# OSMUtils Examples\n",
    "When developing, to test newly saved code:\n",
    "\n",
    "- restart kernel\n",
    "- after each save in the command line use: !pip install -e . to install osmUtils from local directory\n",
    "- if this imports with no issues, the code it good!\n",
    "- then re-import osmUtils\n",
    "\n",
    "-examples here: https://wiki.openstreetmap.org/wiki/Map_features#Leisure"
   ]
  },
  {
   "cell_type": "markdown",
   "metadata": {},
   "source": [
    "# 1. Install and import osmUtils"
   ]
  },
  {
   "cell_type": "code",
   "execution_count": 19,
   "metadata": {},
   "outputs": [
    {
     "name": "stdout",
     "output_type": "stream",
     "text": [
      "osmUtils ver. 0.0.1 ready!\n"
     ]
    }
   ],
   "source": [
    "!pip install -e .\n",
    "\n",
    "from IPython.display import clear_output\n",
    "clear_output()\n",
    "\n",
    "import osmUtils as osmu\n",
    "from osmUtils import utils_geo, utils_osm, utils_map\n",
    "\n",
    "print(f'osmUtils ver. {osmu.__version__} ready!')"
   ]
  },
  {
   "cell_type": "markdown",
   "metadata": {},
   "source": [
    "# 2. Find a location to retrieve data from"
   ]
  },
  {
   "cell_type": "code",
   "execution_count": 20,
   "metadata": {},
   "outputs": [
    {
     "data": {
      "text/html": [
       "<div style=\"width:100%;\"><div style=\"position:relative;width:100%;height:0;padding-bottom:60%;\"><span style=\"color:#565656\">Make this Notebook Trusted to load map: File -> Trust Notebook</span><iframe src=\"about:blank\" style=\"position:absolute;width:100%;height:100%;left:0;top:0;border:none !important;\" data-html=%3C%21DOCTYPE%20html%3E%0A%3Chead%3E%20%20%20%20%0A%20%20%20%20%3Cmeta%20http-equiv%3D%22content-type%22%20content%3D%22text/html%3B%20charset%3DUTF-8%22%20/%3E%0A%20%20%20%20%3Cscript%3EL_PREFER_CANVAS%3Dfalse%3B%20L_NO_TOUCH%3Dfalse%3B%20L_DISABLE_3D%3Dfalse%3B%3C/script%3E%0A%20%20%20%20%3Cscript%20src%3D%22https%3A//cdn.jsdelivr.net/npm/leaflet%401.4.0/dist/leaflet.js%22%3E%3C/script%3E%0A%20%20%20%20%3Cscript%20src%3D%22https%3A//code.jquery.com/jquery-1.12.4.min.js%22%3E%3C/script%3E%0A%20%20%20%20%3Cscript%20src%3D%22https%3A//maxcdn.bootstrapcdn.com/bootstrap/3.2.0/js/bootstrap.min.js%22%3E%3C/script%3E%0A%20%20%20%20%3Cscript%20src%3D%22https%3A//cdnjs.cloudflare.com/ajax/libs/Leaflet.awesome-markers/2.0.2/leaflet.awesome-markers.js%22%3E%3C/script%3E%0A%20%20%20%20%3Clink%20rel%3D%22stylesheet%22%20href%3D%22https%3A//cdn.jsdelivr.net/npm/leaflet%401.4.0/dist/leaflet.css%22/%3E%0A%20%20%20%20%3Clink%20rel%3D%22stylesheet%22%20href%3D%22https%3A//maxcdn.bootstrapcdn.com/bootstrap/3.2.0/css/bootstrap.min.css%22/%3E%0A%20%20%20%20%3Clink%20rel%3D%22stylesheet%22%20href%3D%22https%3A//maxcdn.bootstrapcdn.com/bootstrap/3.2.0/css/bootstrap-theme.min.css%22/%3E%0A%20%20%20%20%3Clink%20rel%3D%22stylesheet%22%20href%3D%22https%3A//maxcdn.bootstrapcdn.com/font-awesome/4.6.3/css/font-awesome.min.css%22/%3E%0A%20%20%20%20%3Clink%20rel%3D%22stylesheet%22%20href%3D%22https%3A//cdnjs.cloudflare.com/ajax/libs/Leaflet.awesome-markers/2.0.2/leaflet.awesome-markers.css%22/%3E%0A%20%20%20%20%3Clink%20rel%3D%22stylesheet%22%20href%3D%22https%3A//rawcdn.githack.com/python-visualization/folium/master/folium/templates/leaflet.awesome.rotate.css%22/%3E%0A%20%20%20%20%3Cstyle%3Ehtml%2C%20body%20%7Bwidth%3A%20100%25%3Bheight%3A%20100%25%3Bmargin%3A%200%3Bpadding%3A%200%3B%7D%3C/style%3E%0A%20%20%20%20%3Cstyle%3E%23map%20%7Bposition%3Aabsolute%3Btop%3A0%3Bbottom%3A0%3Bright%3A0%3Bleft%3A0%3B%7D%3C/style%3E%0A%20%20%20%20%0A%20%20%20%20%3Cmeta%20name%3D%22viewport%22%20content%3D%22width%3Ddevice-width%2C%0A%20%20%20%20%20%20%20%20initial-scale%3D1.0%2C%20maximum-scale%3D1.0%2C%20user-scalable%3Dno%22%20/%3E%0A%20%20%20%20%3Cstyle%3E%23map_d47f19a5062c4784b501c33a97cb9c83%20%7B%0A%20%20%20%20%20%20%20%20position%3A%20relative%3B%0A%20%20%20%20%20%20%20%20width%3A%20100.0%25%3B%0A%20%20%20%20%20%20%20%20height%3A%20100.0%25%3B%0A%20%20%20%20%20%20%20%20left%3A%200.0%25%3B%0A%20%20%20%20%20%20%20%20top%3A%200.0%25%3B%0A%20%20%20%20%20%20%20%20%7D%0A%20%20%20%20%3C/style%3E%0A%3C/head%3E%0A%3Cbody%3E%20%20%20%20%0A%20%20%20%20%0A%20%20%20%20%3Cdiv%20class%3D%22folium-map%22%20id%3D%22map_d47f19a5062c4784b501c33a97cb9c83%22%20%3E%3C/div%3E%0A%3C/body%3E%0A%3Cscript%3E%20%20%20%20%0A%20%20%20%20%0A%20%20%20%20%0A%20%20%20%20%20%20%20%20var%20bounds%20%3D%20null%3B%0A%20%20%20%20%0A%0A%20%20%20%20var%20map_d47f19a5062c4784b501c33a97cb9c83%20%3D%20L.map%28%0A%20%20%20%20%20%20%20%20%27map_d47f19a5062c4784b501c33a97cb9c83%27%2C%20%7B%0A%20%20%20%20%20%20%20%20center%3A%20%5B40.783107923693116%2C%20-73.96888691516162%5D%2C%0A%20%20%20%20%20%20%20%20zoom%3A%2010%2C%0A%20%20%20%20%20%20%20%20maxBounds%3A%20bounds%2C%0A%20%20%20%20%20%20%20%20layers%3A%20%5B%5D%2C%0A%20%20%20%20%20%20%20%20worldCopyJump%3A%20false%2C%0A%20%20%20%20%20%20%20%20crs%3A%20L.CRS.EPSG3857%2C%0A%20%20%20%20%20%20%20%20zoomControl%3A%20true%2C%0A%20%20%20%20%20%20%20%20%7D%29%3B%0A%0A%0A%20%20%20%20%0A%20%20%20%20var%20tile_layer_6f3b679714c64016b991b1d750d4af52%20%3D%20L.tileLayer%28%0A%20%20%20%20%20%20%20%20%27https%3A//%7Bs%7D.tile.openstreetmap.org/%7Bz%7D/%7Bx%7D/%7By%7D.png%27%2C%0A%20%20%20%20%20%20%20%20%7B%0A%20%20%20%20%20%20%20%20%22attribution%22%3A%20null%2C%0A%20%20%20%20%20%20%20%20%22detectRetina%22%3A%20false%2C%0A%20%20%20%20%20%20%20%20%22maxNativeZoom%22%3A%2018%2C%0A%20%20%20%20%20%20%20%20%22maxZoom%22%3A%2018%2C%0A%20%20%20%20%20%20%20%20%22minZoom%22%3A%200%2C%0A%20%20%20%20%20%20%20%20%22noWrap%22%3A%20false%2C%0A%20%20%20%20%20%20%20%20%22opacity%22%3A%201%2C%0A%20%20%20%20%20%20%20%20%22subdomains%22%3A%20%22abc%22%2C%0A%20%20%20%20%20%20%20%20%22tms%22%3A%20false%0A%7D%29.addTo%28map_d47f19a5062c4784b501c33a97cb9c83%29%3B%0A%20%20%20%20%0A%20%20%20%20%20%20%20%20%20%20%20%20%20%20%20%20%0A%0A%20%20%20%20%20%20%20%20%20%20%20%20%20%20%20%20map_d47f19a5062c4784b501c33a97cb9c83.fitBounds%28%0A%20%20%20%20%20%20%20%20%20%20%20%20%20%20%20%20%20%20%20%20%5B%5B40.8785820007325%2C%20-73.9104766845703%5D%2C%20%5B40.7008514404297%2C%20-74.0242614746094%5D%5D%2C%0A%20%20%20%20%20%20%20%20%20%20%20%20%20%20%20%20%20%20%20%20%7B%7D%0A%20%20%20%20%20%20%20%20%20%20%20%20%20%20%20%20%20%20%20%20%29%3B%0A%20%20%20%20%20%20%20%20%20%20%20%20%0A%20%20%20%20%0A%20%20%20%20%20%20%20%20var%20geo_json_ce56dbc8f5654f098b128644291c7c36%20%3D%20L.geoJson%28%0A%20%20%20%20%20%20%20%20%20%20%20%20%7B%22features%22%3A%20%5B%7B%22geometry%22%3A%20%7B%22coordinates%22%3A%20%5B%5B%5B%5B-73.9865570068359%2C%2040.7937889099121%5D%2C%20%5B-73.969970703125%2C%2040.8164100646973%5D%2C%20%5B-73.9357757568359%2C%2040.8785820007325%5D%2C%20%5B-73.9128189086913%2C%2040.8737792968751%5D%2C%20%5B-73.9104766845703%2C%2040.86967086792%5D%2C%20%5B-73.9111938476562%2C%2040.8651390075684%5D%2C%20%5B-73.9237060546874%2C%2040.848960876465%5D%2C%20%5B-73.9287872314453%2C%2040.839038848877%5D%2C%20%5B-73.9328308105468%2C%2040.8209495544434%5D%2C%20%5B-73.9294662475586%2C%2040.8077507019043%5D%2C%20%5B-73.9211578369141%2C%2040.8008613586426%5D%2C%20%5B-73.9269409179687%2C%2040.7960624694825%5D%2C%20%5B-73.9280548095703%2C%2040.7986106872559%5D%2C%20%5B-73.9297332763672%2C%2040.7946929931641%5D%2C%20%5B-73.9359970092773%2C%2040.7907905578613%5D%2C%20%5B-73.9384765624999%2C%2040.785816192627%5D%2C%20%5B-73.9443740844726%2C%2040.7822647094727%5D%2C%20%5B-73.9420852661132%2C%2040.7750701904297%5D%2C%20%5B-73.9618606567383%2C%2040.7555198669434%5D%2C%20%5B-73.9716644287109%2C%2040.7433319091796%5D%2C%20%5B-73.9744262695312%2C%2040.7331237792969%5D%2C%20%5B-73.9717025756836%2C%2040.7263946533203%5D%2C%20%5B-73.9768676757812%2C%2040.7114448547363%5D%2C%20%5B-73.9821319580078%2C%2040.7094688415528%5D%2C%20%5B-73.9942855834961%2C%2040.7090492248536%5D%2C%20%5B-73.9999999999999%2C%2040.7062835693361%5D%2C%20%5B-74.0002746582031%2C%2040.707290649414%5D%2C%20%5B-74.0011138916015%2C%2040.7049484252931%5D%2C%20%5B-74.0051803588867%2C%2040.7023391723633%5D%2C%20%5B-74.0154800415039%2C%2040.7008514404297%5D%2C%20%5B-74.0199584960938%2C%2040.705955505371%5D%2C%20%5B-74.0175018310547%2C%2040.7152786254884%5D%2C%20%5B-74.0242614746094%2C%2040.7144432067871%5D%2C%20%5B-74.0130004882812%2C%2040.7590293884278%5D%2C%20%5B-73.9865570068359%2C%2040.7937889099121%5D%5D%5D%5D%2C%20%22type%22%3A%20%22MultiPolygon%22%7D%2C%20%22properties%22%3A%20%7B%22highlight%22%3A%20%7B%7D%2C%20%22style%22%3A%20%7B%22color%22%3A%20%22%2364D1B8%22%2C%20%22fillOpacity%22%3A%200.0%2C%20%22weight%22%3A%204%7D%7D%2C%20%22type%22%3A%20%22Feature%22%7D%5D%2C%20%22type%22%3A%20%22FeatureCollection%22%7D%2C%0A%20%20%20%20%20%20%20%20%20%20%20%20%7B%0A%20%20%20%20%20%20%20%20%20%20%20%20%7D%0A%20%20%20%20%20%20%20%20%29.addTo%28map_d47f19a5062c4784b501c33a97cb9c83%20%29%3B%0A%20%20%20%20%20%20%20%20geo_json_ce56dbc8f5654f098b128644291c7c36.setStyle%28function%28feature%29%20%7Breturn%20feature.properties.style%3B%7D%29%3B%0A%20%20%20%20%20%20%20%20%0A%3C/script%3E onload=\"this.contentDocument.open();this.contentDocument.write(    decodeURIComponent(this.getAttribute('data-html')));this.contentDocument.close();\" allowfullscreen webkitallowfullscreen mozallowfullscreen></iframe></div></div>"
      ],
      "text/plain": [
       "<folium.folium.Map at 0x7ff87aaf8670>"
      ]
     },
     "execution_count": 20,
     "metadata": {},
     "output_type": "execute_result"
    }
   ],
   "source": [
    "\n",
    "import LMIPy as lmi #Docs https://lmipy.readthedocs.io/en/latest/quickstart.html#From-Political-Boundaries\n",
    "\n",
    "params={\n",
    "    'iso': 'USA',\n",
    "    'adm1': 33,\n",
    "    'adm2': 32\n",
    "}\n",
    "\n",
    "ny_geom = lmi.Geometry(parameters=params)\n",
    "ny_geom.map()"
   ]
  },
  {
   "cell_type": "code",
   "execution_count": 21,
   "metadata": {},
   "outputs": [],
   "source": [
    "# get the geometry\n",
    "geom = ny_geom.shape()"
   ]
  },
  {
   "cell_type": "markdown",
   "metadata": {},
   "source": [
    "# 3. Generate a gdf collection form your input geometry\n",
    "\n",
    "As part of the osmUTils, we have incorporated a CollectionOsm main class. This collection class will produce a gdf tile manifest at an especific zoom level to keep track of the OSM retrieving process. The idea behind this class would be helping the user keeping track of consecutive retreaving for a a big area of interest, where you want to divide the location in different chunks or tiles. \n",
    "\n",
    "You can also create a gdf manifest for your input geometry (withouth dividing it in tiles). This will also help you with the tracking of the retrieving process. \n",
    "\n",
    "As result, you will have a geoDataFrame and a map visualization with the geometry where you are retreiving the data from:"
   ]
  },
  {
   "cell_type": "code",
   "execution_count": 4,
   "metadata": {},
   "outputs": [
    {
     "name": "stderr",
     "output_type": "stream",
     "text": [
      "/home/jovyan/work/test_dev/osmUtils/osmUtils/utils_geo.py:94: SettingWithCopyWarning: \n",
      "A value is trying to be set on a copy of a slice from a DataFrame.\n",
      "Try using .loc[row_indexer,col_indexer] = value instead\n",
      "\n",
      "See the caveats in the documentation: https://pandas.pydata.org/pandas-docs/stable/user_guide/indexing.html#returning-a-view-versus-a-copy\n",
      "  manifest['exclude'], manifest['exported'], manifest['uploaded'] = [0, 0, 0]\n"
     ]
    },
    {
     "data": {
      "text/html": [
       "<div style=\"width:100%;\"><div style=\"position:relative;width:100%;height:0;padding-bottom:60%;\"><span style=\"color:#565656\">Make this Notebook Trusted to load map: File -> Trust Notebook</span><iframe src=\"about:blank\" style=\"position:absolute;width:100%;height:100%;left:0;top:0;border:none !important;\" data-html=%3C%21DOCTYPE%20html%3E%0A%3Chead%3E%20%20%20%20%0A%20%20%20%20%3Cmeta%20http-equiv%3D%22content-type%22%20content%3D%22text/html%3B%20charset%3DUTF-8%22%20/%3E%0A%20%20%20%20%3Cscript%3EL_PREFER_CANVAS%3Dfalse%3B%20L_NO_TOUCH%3Dfalse%3B%20L_DISABLE_3D%3Dfalse%3B%3C/script%3E%0A%20%20%20%20%3Cscript%20src%3D%22https%3A//cdn.jsdelivr.net/npm/leaflet%401.4.0/dist/leaflet.js%22%3E%3C/script%3E%0A%20%20%20%20%3Cscript%20src%3D%22https%3A//code.jquery.com/jquery-1.12.4.min.js%22%3E%3C/script%3E%0A%20%20%20%20%3Cscript%20src%3D%22https%3A//maxcdn.bootstrapcdn.com/bootstrap/3.2.0/js/bootstrap.min.js%22%3E%3C/script%3E%0A%20%20%20%20%3Cscript%20src%3D%22https%3A//cdnjs.cloudflare.com/ajax/libs/Leaflet.awesome-markers/2.0.2/leaflet.awesome-markers.js%22%3E%3C/script%3E%0A%20%20%20%20%3Clink%20rel%3D%22stylesheet%22%20href%3D%22https%3A//cdn.jsdelivr.net/npm/leaflet%401.4.0/dist/leaflet.css%22/%3E%0A%20%20%20%20%3Clink%20rel%3D%22stylesheet%22%20href%3D%22https%3A//maxcdn.bootstrapcdn.com/bootstrap/3.2.0/css/bootstrap.min.css%22/%3E%0A%20%20%20%20%3Clink%20rel%3D%22stylesheet%22%20href%3D%22https%3A//maxcdn.bootstrapcdn.com/bootstrap/3.2.0/css/bootstrap-theme.min.css%22/%3E%0A%20%20%20%20%3Clink%20rel%3D%22stylesheet%22%20href%3D%22https%3A//maxcdn.bootstrapcdn.com/font-awesome/4.6.3/css/font-awesome.min.css%22/%3E%0A%20%20%20%20%3Clink%20rel%3D%22stylesheet%22%20href%3D%22https%3A//cdnjs.cloudflare.com/ajax/libs/Leaflet.awesome-markers/2.0.2/leaflet.awesome-markers.css%22/%3E%0A%20%20%20%20%3Clink%20rel%3D%22stylesheet%22%20href%3D%22https%3A//rawcdn.githack.com/python-visualization/folium/master/folium/templates/leaflet.awesome.rotate.css%22/%3E%0A%20%20%20%20%3Cstyle%3Ehtml%2C%20body%20%7Bwidth%3A%20100%25%3Bheight%3A%20100%25%3Bmargin%3A%200%3Bpadding%3A%200%3B%7D%3C/style%3E%0A%20%20%20%20%3Cstyle%3E%23map%20%7Bposition%3Aabsolute%3Btop%3A0%3Bbottom%3A0%3Bright%3A0%3Bleft%3A0%3B%7D%3C/style%3E%0A%20%20%20%20%0A%20%20%20%20%3Cmeta%20name%3D%22viewport%22%20content%3D%22width%3Ddevice-width%2C%0A%20%20%20%20%20%20%20%20initial-scale%3D1.0%2C%20maximum-scale%3D1.0%2C%20user-scalable%3Dno%22%20/%3E%0A%20%20%20%20%3Cstyle%3E%23map_a3acbb8d57864f259fedaa6db9133ae0%20%7B%0A%20%20%20%20%20%20%20%20position%3A%20relative%3B%0A%20%20%20%20%20%20%20%20width%3A%20100.0%25%3B%0A%20%20%20%20%20%20%20%20height%3A%20100.0%25%3B%0A%20%20%20%20%20%20%20%20left%3A%200.0%25%3B%0A%20%20%20%20%20%20%20%20top%3A%200.0%25%3B%0A%20%20%20%20%20%20%20%20%7D%0A%20%20%20%20%3C/style%3E%0A%3C/head%3E%0A%3Cbody%3E%20%20%20%20%0A%20%20%20%20%0A%20%20%20%20%3Cdiv%20class%3D%22folium-map%22%20id%3D%22map_a3acbb8d57864f259fedaa6db9133ae0%22%20%3E%3C/div%3E%0A%3C/body%3E%0A%3Cscript%3E%20%20%20%20%0A%20%20%20%20%0A%20%20%20%20%0A%20%20%20%20%20%20%20%20var%20bounds%20%3D%20null%3B%0A%20%20%20%20%0A%0A%20%20%20%20var%20map_a3acbb8d57864f259fedaa6db9133ae0%20%3D%20L.map%28%0A%20%20%20%20%20%20%20%20%27map_a3acbb8d57864f259fedaa6db9133ae0%27%2C%20%7B%0A%20%20%20%20%20%20%20%20center%3A%20%5B40.789716720581104%2C%20-73.96736907958983%5D%2C%0A%20%20%20%20%20%20%20%20zoom%3A%2010%2C%0A%20%20%20%20%20%20%20%20maxBounds%3A%20bounds%2C%0A%20%20%20%20%20%20%20%20layers%3A%20%5B%5D%2C%0A%20%20%20%20%20%20%20%20worldCopyJump%3A%20false%2C%0A%20%20%20%20%20%20%20%20crs%3A%20L.CRS.EPSG3857%2C%0A%20%20%20%20%20%20%20%20zoomControl%3A%20true%2C%0A%20%20%20%20%20%20%20%20%7D%29%3B%0A%0A%0A%20%20%20%20%0A%20%20%20%20var%20tile_layer_5ae80b8bc7d54de6b86c71b00ead8d95%20%3D%20L.tileLayer%28%0A%20%20%20%20%20%20%20%20%27https%3A//cartodb-basemaps-%7Bs%7D.global.ssl.fastly.net/light_all/%7Bz%7D/%7Bx%7D/%7By%7D.png%27%2C%0A%20%20%20%20%20%20%20%20%7B%0A%20%20%20%20%20%20%20%20%22attribution%22%3A%20null%2C%0A%20%20%20%20%20%20%20%20%22detectRetina%22%3A%20false%2C%0A%20%20%20%20%20%20%20%20%22maxNativeZoom%22%3A%2018%2C%0A%20%20%20%20%20%20%20%20%22maxZoom%22%3A%2018%2C%0A%20%20%20%20%20%20%20%20%22minZoom%22%3A%200%2C%0A%20%20%20%20%20%20%20%20%22noWrap%22%3A%20false%2C%0A%20%20%20%20%20%20%20%20%22opacity%22%3A%201%2C%0A%20%20%20%20%20%20%20%20%22subdomains%22%3A%20%22abc%22%2C%0A%20%20%20%20%20%20%20%20%22tms%22%3A%20false%0A%7D%29.addTo%28map_a3acbb8d57864f259fedaa6db9133ae0%29%3B%0A%20%20%20%20%0A%20%20%20%20%20%20%20%20%20%20%20%20var%20choropleth_1ff452f1e7ee49269df0b7739ed87384%20%3D%20L.featureGroup%28%0A%20%20%20%20%20%20%20%20%20%20%20%20%20%20%20%20%29.addTo%28map_a3acbb8d57864f259fedaa6db9133ae0%29%3B%0A%20%20%20%20%20%20%20%20%0A%20%20%20%20%0A%20%20%20%20%20%20%20%20var%20geo_json_820d5714831241058d4363f47db468ad%20%3D%20L.geoJson%28%0A%20%20%20%20%20%20%20%20%20%20%20%20%7B%22bbox%22%3A%20%5B-74.0242614746094%2C%2040.7008514404297%2C%20-73.9104766845703%2C%2040.8785820007325%5D%2C%20%22features%22%3A%20%5B%7B%22bbox%22%3A%20%5B-74.0242614746094%2C%2040.7008514404297%2C%20-73.9104766845703%2C%2040.8785820007325%5D%2C%20%22geometry%22%3A%20%7B%22coordinates%22%3A%20%5B%5B%5B-73.9865570068359%2C%2040.7937889099121%5D%2C%20%5B-73.969970703125%2C%2040.8164100646973%5D%2C%20%5B-73.9357757568359%2C%2040.8785820007325%5D%2C%20%5B-73.9128189086913%2C%2040.8737792968751%5D%2C%20%5B-73.9104766845703%2C%2040.86967086792%5D%2C%20%5B-73.9111938476562%2C%2040.8651390075684%5D%2C%20%5B-73.9237060546874%2C%2040.848960876465%5D%2C%20%5B-73.9287872314453%2C%2040.839038848877%5D%2C%20%5B-73.9328308105468%2C%2040.8209495544434%5D%2C%20%5B-73.9294662475586%2C%2040.8077507019043%5D%2C%20%5B-73.9211578369141%2C%2040.8008613586426%5D%2C%20%5B-73.9269409179687%2C%2040.7960624694825%5D%2C%20%5B-73.9280548095703%2C%2040.7986106872559%5D%2C%20%5B-73.9297332763672%2C%2040.7946929931641%5D%2C%20%5B-73.9359970092773%2C%2040.7907905578613%5D%2C%20%5B-73.9384765624999%2C%2040.785816192627%5D%2C%20%5B-73.9443740844726%2C%2040.7822647094727%5D%2C%20%5B-73.9420852661132%2C%2040.7750701904297%5D%2C%20%5B-73.9618606567383%2C%2040.7555198669434%5D%2C%20%5B-73.9716644287109%2C%2040.7433319091796%5D%2C%20%5B-73.9744262695312%2C%2040.7331237792969%5D%2C%20%5B-73.9717025756836%2C%2040.7263946533203%5D%2C%20%5B-73.9768676757812%2C%2040.7114448547363%5D%2C%20%5B-73.9821319580078%2C%2040.7094688415528%5D%2C%20%5B-73.9942855834961%2C%2040.7090492248536%5D%2C%20%5B-73.9999999999999%2C%2040.7062835693361%5D%2C%20%5B-74.0002746582031%2C%2040.707290649414%5D%2C%20%5B-74.0011138916015%2C%2040.7049484252931%5D%2C%20%5B-74.0051803588867%2C%2040.7023391723633%5D%2C%20%5B-74.0154800415039%2C%2040.7008514404297%5D%2C%20%5B-74.0199584960938%2C%2040.705955505371%5D%2C%20%5B-74.0175018310547%2C%2040.7152786254884%5D%2C%20%5B-74.0242614746094%2C%2040.7144432067871%5D%2C%20%5B-74.0130004882812%2C%2040.7590293884278%5D%2C%20%5B-73.9865570068359%2C%2040.7937889099121%5D%5D%5D%2C%20%22type%22%3A%20%22Polygon%22%7D%2C%20%22id%22%3A%20%22300%22%2C%20%22properties%22%3A%20%7B%22exclude%22%3A%200%2C%20%22exported%22%3A%200%2C%20%22highlight%22%3A%20%7B%7D%2C%20%22id%22%3A%200.0%2C%20%22style%22%3A%20%7B%22color%22%3A%20%22black%22%2C%20%22fillColor%22%3A%20%22blue%22%2C%20%22fillOpacity%22%3A%200.6%2C%20%22opacity%22%3A%201%2C%20%22weight%22%3A%201%7D%2C%20%22uploaded%22%3A%200%7D%2C%20%22type%22%3A%20%22Feature%22%7D%5D%2C%20%22type%22%3A%20%22FeatureCollection%22%7D%2C%0A%20%20%20%20%20%20%20%20%20%20%20%20%7B%0A%20%20%20%20%20%20%20%20%20%20%20%20%7D%0A%20%20%20%20%20%20%20%20%29.addTo%28choropleth_1ff452f1e7ee49269df0b7739ed87384%20%29%3B%0A%20%20%20%20%20%20%20%20geo_json_820d5714831241058d4363f47db468ad.setStyle%28function%28feature%29%20%7Breturn%20feature.properties.style%3B%7D%29%3B%0A%20%20%20%20%20%20%20%20%0A%20%20%20%20%0A%20%20%20%20%20%20%20%20%20%20%20%20var%20layer_control_15adc6d0dfe74e74baf02a0c5aa420d0%20%3D%20%7B%0A%20%20%20%20%20%20%20%20%20%20%20%20%20%20%20%20base_layers%20%3A%20%7B%20%22cartodbpositron%22%20%3A%20tile_layer_5ae80b8bc7d54de6b86c71b00ead8d95%2C%20%7D%2C%0A%20%20%20%20%20%20%20%20%20%20%20%20%20%20%20%20overlays%20%3A%20%7B%20%22macro_element_1ff452f1e7ee49269df0b7739ed87384%22%20%3A%20choropleth_1ff452f1e7ee49269df0b7739ed87384%2C%20%7D%0A%20%20%20%20%20%20%20%20%20%20%20%20%20%20%20%20%7D%3B%0A%20%20%20%20%20%20%20%20%20%20%20%20L.control.layers%28%0A%20%20%20%20%20%20%20%20%20%20%20%20%20%20%20%20layer_control_15adc6d0dfe74e74baf02a0c5aa420d0.base_layers%2C%0A%20%20%20%20%20%20%20%20%20%20%20%20%20%20%20%20layer_control_15adc6d0dfe74e74baf02a0c5aa420d0.overlays%2C%0A%20%20%20%20%20%20%20%20%20%20%20%20%20%20%20%20%7Bposition%3A%20%27topright%27%2C%0A%20%20%20%20%20%20%20%20%20%20%20%20%20%20%20%20%20collapsed%3A%20true%2C%0A%20%20%20%20%20%20%20%20%20%20%20%20%20%20%20%20%20autoZIndex%3A%20true%0A%20%20%20%20%20%20%20%20%20%20%20%20%20%20%20%20%7D%29.addTo%28map_a3acbb8d57864f259fedaa6db9133ae0%29%3B%0A%20%20%20%20%20%20%20%20%20%20%20%20%0A%20%20%20%20%20%20%20%20%0A%3C/script%3E onload=\"this.contentDocument.open();this.contentDocument.write(    decodeURIComponent(this.getAttribute('data-html')));this.contentDocument.close();\" allowfullscreen webkitallowfullscreen mozallowfullscreen></iframe></div></div>"
      ],
      "text/plain": [
       "<osmUtils.collectionOsm.CollectionOsm at 0x7ff87b805cd0>"
      ]
     },
     "execution_count": 4,
     "metadata": {},
     "output_type": "execute_result"
    }
   ],
   "source": [
    "col = osmu.CollectionOsm(geometry=geom[0], zoom=5, crs=None, geom_tiles=False)\n",
    "col"
   ]
  },
  {
   "cell_type": "code",
   "execution_count": 5,
   "metadata": {},
   "outputs": [
    {
     "data": {
      "text/html": [
       "<div>\n",
       "<style scoped>\n",
       "    .dataframe tbody tr th:only-of-type {\n",
       "        vertical-align: middle;\n",
       "    }\n",
       "\n",
       "    .dataframe tbody tr th {\n",
       "        vertical-align: top;\n",
       "    }\n",
       "\n",
       "    .dataframe thead th {\n",
       "        text-align: right;\n",
       "    }\n",
       "</style>\n",
       "<table border=\"1\" class=\"dataframe\">\n",
       "  <thead>\n",
       "    <tr style=\"text-align: right;\">\n",
       "      <th></th>\n",
       "      <th>id</th>\n",
       "      <th>geometry</th>\n",
       "      <th>exclude</th>\n",
       "      <th>exported</th>\n",
       "      <th>uploaded</th>\n",
       "    </tr>\n",
       "  </thead>\n",
       "  <tbody>\n",
       "    <tr>\n",
       "      <th>300</th>\n",
       "      <td>0.0</td>\n",
       "      <td>POLYGON ((-73.98656 40.79379, -73.96997 40.816...</td>\n",
       "      <td>0</td>\n",
       "      <td>0</td>\n",
       "      <td>0</td>\n",
       "    </tr>\n",
       "  </tbody>\n",
       "</table>\n",
       "</div>"
      ],
      "text/plain": [
       "      id                                           geometry  exclude  \\\n",
       "300  0.0  POLYGON ((-73.98656 40.79379, -73.96997 40.816...        0   \n",
       "\n",
       "     exported  uploaded  \n",
       "300         0         0  "
      ]
     },
     "execution_count": 5,
     "metadata": {},
     "output_type": "execute_result"
    }
   ],
   "source": [
    "# access to the geodataframe manifest for keeping track of the retrieving process:\n",
    "manifest = col.manifest\n",
    "manifest"
   ]
  },
  {
   "cell_type": "markdown",
   "metadata": {},
   "source": [
    "# 4. Retrieve osm data from Overpass API\n",
    "\n",
    "The osmu.OsmDownload class interfaces directly with overpass API to retrieve nodes a ways for a given geometry. In this function you can retrieve directly the body in json format for a given geometry and for a given filter but also, you would be able to incorporate the metadata to this request. \n",
    "\n",
    "The filters to you request can be some predefined ones but you can add any customised one. The filters that we have already customised are:\n",
    "\n",
    "- 'all_roads': selects major and minor roads\n",
    "- main_roads: selects primary roads\n",
    "- 'river': the linear flow of a river, in flow direction\n",
    "- 'water_features': any inland body of water, from natural such as a lake or pond to artificial like a moat or canal\n",
    "- coastline: The mean high (springs) line between the sea and land (with the water on the right side of the way)\n",
    "- forest: Managed forest or woodland plantation (Other languages). Some use this to map an area of trees rather than the use of the land. See Forest.\n",
    "- building: The building tags are intended for the physical description of a building\n",
    "- parks: A park, usually urban (municipal)\n"
   ]
  },
  {
   "cell_type": "code",
   "execution_count": 6,
   "metadata": {},
   "outputs": [],
   "source": [
    "#select geometry to retrieve data\n",
    "geometry = manifest.iloc[0].geometry"
   ]
  },
  {
   "cell_type": "markdown",
   "metadata": {},
   "source": [
    "## 4.1 Retrieve data:"
   ]
  },
  {
   "cell_type": "code",
   "execution_count": 7,
   "metadata": {},
   "outputs": [
    {
     "name": "stdout",
     "output_type": "stream",
     "text": [
      "\n",
      "Fetching OSM\n",
      "Geometry coordines converted into string\n",
      "40.793789 -73.986557 40.816410 -73.969971 40.878582 -73.935776 40.873779 -73.912819 40.869671 -73.910477 40.865139 -73.911194 40.848961 -73.923706 40.839039 -73.928787 40.820950 -73.932831 40.807751 -73.929466 40.800861 -73.921158 40.796062 -73.926941 40.798611 -73.928055 40.794693 -73.929733 40.790791 -73.935997 40.785816 -73.938477 40.782265 -73.944374 40.775070 -73.942085 40.755520 -73.961861 40.743332 -73.971664 40.733124 -73.974426 40.726395 -73.971703 40.711445 -73.976868 40.709469 -73.982132 40.709049 -73.994286 40.706284 -74.000000 40.707291 -74.000275 40.704948 -74.001114 40.702339 -74.005180 40.700851 -74.015480 40.705956 -74.019958 40.715279 -74.017502 40.714443 -74.024261 40.759029 -74.013000 40.793789 -73.986557\n",
      "[out:json][timeout:180];(way[\"highway\"=\"primary\"](poly:\"40.793789 -73.986557 40.816410 -73.969971 40.878582 -73.935776 40.873779 -73.912819 40.869671 -73.910477 40.865139 -73.911194 40.848961 -73.923706 40.839039 -73.928787 40.820950 -73.932831 40.807751 -73.929466 40.800861 -73.921158 40.796062 -73.926941 40.798611 -73.928055 40.794693 -73.929733 40.790791 -73.935997 40.785816 -73.938477 40.782265 -73.944374 40.775070 -73.942085 40.755520 -73.961861 40.743332 -73.971664 40.733124 -73.974426 40.726395 -73.971703 40.711445 -73.976868 40.709469 -73.982132 40.709049 -73.994286 40.706284 -74.000000 40.707291 -74.000275 40.704948 -74.001114 40.702339 -74.005180 40.700851 -74.015480 40.705956 -74.019958 40.715279 -74.017502 40.714443 -74.024261 40.759029 -74.013000 40.793789 -73.986557\");>;);out;\n",
      "[out:json][timeout:180];(way[\"highway\"=\"primary\"](poly:\"40.793789 -73.986557 40.816410 -73.969971 40.878582 -73.935776 40.873779 -73.912819 40.869671 -73.910477 40.865139 -73.911194 40.848961 -73.923706 40.839039 -73.928787 40.820950 -73.932831 40.807751 -73.929466 40.800861 -73.921158 40.796062 -73.926941 40.798611 -73.928055 40.794693 -73.929733 40.790791 -73.935997 40.785816 -73.938477 40.782265 -73.944374 40.775070 -73.942085 40.755520 -73.961861 40.743332 -73.971664 40.733124 -73.974426 40.726395 -73.971703 40.711445 -73.976868 40.709469 -73.982132 40.709049 -73.994286 40.706284 -74.000000 40.707291 -74.000275 40.704948 -74.001114 40.702339 -74.005180 40.700851 -74.015480 40.705956 -74.019958 40.715279 -74.017502 40.714443 -74.024261 40.759029 -74.013000 40.793789 -73.986557\");>;);out;\n",
      "Requesting data within polygon from API in 734 request(s)\n",
      "Pausing 1 seconds before making API POST request\n",
      "Posting to http://overpass-api.de/api/interpreter with timeout=180, \"{'data': '[out:json][timeout:180];(way[\"highway\"=\"primary\"](poly:\"40.793789 -73.986557 40.816410 -73.969971 40.878582 -73.935776 40.873779 -73.912819 40.869671 -73.910477 40.865139 -73.911194 40.848961 -73.923706 40.839039 -73.928787 40.820950 -73.932831 40.807751 -73.929466 40.800861 -73.921158 40.796062 -73.926941 40.798611 -73.928055 40.794693 -73.929733 40.790791 -73.935997 40.785816 -73.938477 40.782265 -73.944374 40.775070 -73.942085 40.755520 -73.961861 40.743332 -73.971664 40.733124 -73.974426 40.726395 -73.971703 40.711445 -73.976868 40.709469 -73.982132 40.709049 -73.994286 40.706284 -74.000000 40.707291 -74.000275 40.704948 -74.001114 40.702339 -74.005180 40.700851 -74.015480 40.705956 -74.019958 40.715279 -74.017502 40.714443 -74.024261 40.759029 -74.013000 40.793789 -73.986557\");>;);out;'}\"\n",
      "Data retrieve succesfully!\n"
     ]
    }
   ],
   "source": [
    "#retrieve data without metadata\n",
    "osm_Data_roads = osmu.OsmDownload(\n",
    "    geometry,\n",
    "    osm_type='main_roads'\n",
    ")"
   ]
  },
  {
   "cell_type": "code",
   "execution_count": 8,
   "metadata": {},
   "outputs": [
    {
     "name": "stdout",
     "output_type": "stream",
     "text": [
      "\n",
      "Fetching OSM\n",
      "Geometry coordines converted into string\n",
      "40.793789 -73.986557 40.816410 -73.969971 40.878582 -73.935776 40.873779 -73.912819 40.869671 -73.910477 40.865139 -73.911194 40.848961 -73.923706 40.839039 -73.928787 40.820950 -73.932831 40.807751 -73.929466 40.800861 -73.921158 40.796062 -73.926941 40.798611 -73.928055 40.794693 -73.929733 40.790791 -73.935997 40.785816 -73.938477 40.782265 -73.944374 40.775070 -73.942085 40.755520 -73.961861 40.743332 -73.971664 40.733124 -73.974426 40.726395 -73.971703 40.711445 -73.976868 40.709469 -73.982132 40.709049 -73.994286 40.706284 -74.000000 40.707291 -74.000275 40.704948 -74.001114 40.702339 -74.005180 40.700851 -74.015480 40.705956 -74.019958 40.715279 -74.017502 40.714443 -74.024261 40.759029 -74.013000 40.793789 -73.986557\n",
      "[out:json][timeout:180];(way[\"highway\"=\"primary\"](poly:\"40.793789 -73.986557 40.816410 -73.969971 40.878582 -73.935776 40.873779 -73.912819 40.869671 -73.910477 40.865139 -73.911194 40.848961 -73.923706 40.839039 -73.928787 40.820950 -73.932831 40.807751 -73.929466 40.800861 -73.921158 40.796062 -73.926941 40.798611 -73.928055 40.794693 -73.929733 40.790791 -73.935997 40.785816 -73.938477 40.782265 -73.944374 40.775070 -73.942085 40.755520 -73.961861 40.743332 -73.971664 40.733124 -73.974426 40.726395 -73.971703 40.711445 -73.976868 40.709469 -73.982132 40.709049 -73.994286 40.706284 -74.000000 40.707291 -74.000275 40.704948 -74.001114 40.702339 -74.005180 40.700851 -74.015480 40.705956 -74.019958 40.715279 -74.017502 40.714443 -74.024261 40.759029 -74.013000 40.793789 -73.986557\"););out meta;>;out skel qt;\n",
      "[out:json][timeout:180];(way[\"highway\"=\"primary\"](poly:\"40.793789 -73.986557 40.816410 -73.969971 40.878582 -73.935776 40.873779 -73.912819 40.869671 -73.910477 40.865139 -73.911194 40.848961 -73.923706 40.839039 -73.928787 40.820950 -73.932831 40.807751 -73.929466 40.800861 -73.921158 40.796062 -73.926941 40.798611 -73.928055 40.794693 -73.929733 40.790791 -73.935997 40.785816 -73.938477 40.782265 -73.944374 40.775070 -73.942085 40.755520 -73.961861 40.743332 -73.971664 40.733124 -73.974426 40.726395 -73.971703 40.711445 -73.976868 40.709469 -73.982132 40.709049 -73.994286 40.706284 -74.000000 40.707291 -74.000275 40.704948 -74.001114 40.702339 -74.005180 40.700851 -74.015480 40.705956 -74.019958 40.715279 -74.017502 40.714443 -74.024261 40.759029 -74.013000 40.793789 -73.986557\"););out meta;>;out skel qt;\n",
      "Requesting data within polygon from API in 734 request(s)\n",
      "Pausing 1 seconds before making API POST request\n",
      "Posting to http://overpass-api.de/api/interpreter with timeout=180, \"{'data': '[out:json][timeout:180];(way[\"highway\"=\"primary\"](poly:\"40.793789 -73.986557 40.816410 -73.969971 40.878582 -73.935776 40.873779 -73.912819 40.869671 -73.910477 40.865139 -73.911194 40.848961 -73.923706 40.839039 -73.928787 40.820950 -73.932831 40.807751 -73.929466 40.800861 -73.921158 40.796062 -73.926941 40.798611 -73.928055 40.794693 -73.929733 40.790791 -73.935997 40.785816 -73.938477 40.782265 -73.944374 40.775070 -73.942085 40.755520 -73.961861 40.743332 -73.971664 40.733124 -73.974426 40.726395 -73.971703 40.711445 -73.976868 40.709469 -73.982132 40.709049 -73.994286 40.706284 -74.000000 40.707291 -74.000275 40.704948 -74.001114 40.702339 -74.005180 40.700851 -74.015480 40.705956 -74.019958 40.715279 -74.017502 40.714443 -74.024261 40.759029 -74.013000 40.793789 -73.986557\"););out meta;>;out skel qt;'}\"\n",
      "Data retrieve succesfully!\n"
     ]
    }
   ],
   "source": [
    "#retrieve data with metadata\n",
    "osm_Data_roads_meta = osmu.OsmDownload(\n",
    "    geometry,\n",
    "    osm_type='main_roads',\n",
    "    includes_metadata=True\n",
    ")"
   ]
  },
  {
   "cell_type": "markdown",
   "metadata": {},
   "source": [
    "## 4.2 Generate gdf:"
   ]
  },
  {
   "cell_type": "code",
   "execution_count": 9,
   "metadata": {},
   "outputs": [
    {
     "data": {
      "text/html": [
       "<div>\n",
       "<style scoped>\n",
       "    .dataframe tbody tr th:only-of-type {\n",
       "        vertical-align: middle;\n",
       "    }\n",
       "\n",
       "    .dataframe tbody tr th {\n",
       "        vertical-align: top;\n",
       "    }\n",
       "\n",
       "    .dataframe thead th {\n",
       "        text-align: right;\n",
       "    }\n",
       "</style>\n",
       "<table border=\"1\" class=\"dataframe\">\n",
       "  <thead>\n",
       "    <tr style=\"text-align: right;\">\n",
       "      <th></th>\n",
       "      <th>geometry</th>\n",
       "      <th>id</th>\n",
       "    </tr>\n",
       "  </thead>\n",
       "  <tbody>\n",
       "    <tr>\n",
       "      <th>0</th>\n",
       "      <td>LINESTRING (-73.93422 40.80683, -73.93451 40.8...</td>\n",
       "      <td>5669595</td>\n",
       "    </tr>\n",
       "    <tr>\n",
       "      <th>1</th>\n",
       "      <td>LINESTRING (-73.93942 40.84173, -73.93959 40.8...</td>\n",
       "      <td>5669799</td>\n",
       "    </tr>\n",
       "    <tr>\n",
       "      <th>2</th>\n",
       "      <td>LINESTRING (-73.99217 40.71968, -73.99209 40.7...</td>\n",
       "      <td>5669857</td>\n",
       "    </tr>\n",
       "    <tr>\n",
       "      <th>3</th>\n",
       "      <td>LINESTRING (-73.99409 40.72034, -73.99419 40.7...</td>\n",
       "      <td>5669892</td>\n",
       "    </tr>\n",
       "    <tr>\n",
       "      <th>4</th>\n",
       "      <td>LINESTRING (-74.01284 40.70244, -74.01288 40.7...</td>\n",
       "      <td>5669933</td>\n",
       "    </tr>\n",
       "  </tbody>\n",
       "</table>\n",
       "</div>"
      ],
      "text/plain": [
       "                                            geometry       id\n",
       "0  LINESTRING (-73.93422 40.80683, -73.93451 40.8...  5669595\n",
       "1  LINESTRING (-73.93942 40.84173, -73.93959 40.8...  5669799\n",
       "2  LINESTRING (-73.99217 40.71968, -73.99209 40.7...  5669857\n",
       "3  LINESTRING (-73.99409 40.72034, -73.99419 40.7...  5669892\n",
       "4  LINESTRING (-74.01284 40.70244, -74.01288 40.7...  5669933"
      ]
     },
     "execution_count": 9,
     "metadata": {},
     "output_type": "execute_result"
    }
   ],
   "source": [
    "# get the gdf from your response retrieved\n",
    "roads_gdf = osm_Data_roads.get_osm_gdf()\n",
    "roads_gdf.head()"
   ]
  },
  {
   "cell_type": "code",
   "execution_count": 10,
   "metadata": {},
   "outputs": [
    {
     "data": {
      "text/html": [
       "<div>\n",
       "<style scoped>\n",
       "    .dataframe tbody tr th:only-of-type {\n",
       "        vertical-align: middle;\n",
       "    }\n",
       "\n",
       "    .dataframe tbody tr th {\n",
       "        vertical-align: top;\n",
       "    }\n",
       "\n",
       "    .dataframe thead th {\n",
       "        text-align: right;\n",
       "    }\n",
       "</style>\n",
       "<table border=\"1\" class=\"dataframe\">\n",
       "  <thead>\n",
       "    <tr style=\"text-align: right;\">\n",
       "      <th></th>\n",
       "      <th>geometry</th>\n",
       "      <th>id</th>\n",
       "      <th>type</th>\n",
       "      <th>timestamp</th>\n",
       "      <th>version</th>\n",
       "      <th>changeset</th>\n",
       "      <th>user</th>\n",
       "      <th>uid</th>\n",
       "      <th>nodes</th>\n",
       "      <th>tags</th>\n",
       "    </tr>\n",
       "  </thead>\n",
       "  <tbody>\n",
       "    <tr>\n",
       "      <th>0</th>\n",
       "      <td>LINESTRING (-73.93422 40.80683, -73.93451 40.8...</td>\n",
       "      <td>5669595</td>\n",
       "      <td>way</td>\n",
       "      <td>2020-12-29T20:08:01Z</td>\n",
       "      <td>20</td>\n",
       "      <td>96622711</td>\n",
       "      <td>Fluffy89502</td>\n",
       "      <td>10165657</td>\n",
       "      <td>[371337140, 3786741766, 3786741765, 3786741764...</td>\n",
       "      <td>{'destination:street': '2nd Avenue', 'hgv': 'l...</td>\n",
       "    </tr>\n",
       "    <tr>\n",
       "      <th>1</th>\n",
       "      <td>LINESTRING (-73.93942 40.84173, -73.93959 40.8...</td>\n",
       "      <td>5669799</td>\n",
       "      <td>way</td>\n",
       "      <td>2021-01-15T23:57:23Z</td>\n",
       "      <td>34</td>\n",
       "      <td>97586941</td>\n",
       "      <td>Mateusz Konieczny</td>\n",
       "      <td>1722488</td>\n",
       "      <td>[2499757467, 7132814245]</td>\n",
       "      <td>{'cycleway:right': 'lane', 'hgv': 'local', 'hi...</td>\n",
       "    </tr>\n",
       "    <tr>\n",
       "      <th>2</th>\n",
       "      <td>LINESTRING (-73.99217 40.71968, -73.99209 40.7...</td>\n",
       "      <td>5669857</td>\n",
       "      <td>way</td>\n",
       "      <td>2021-01-10T01:27:47Z</td>\n",
       "      <td>29</td>\n",
       "      <td>97233821</td>\n",
       "      <td>kguenther24</td>\n",
       "      <td>11697944</td>\n",
       "      <td>[486867432, 8231896494, 8307642254, 486867405]</td>\n",
       "      <td>{'cycleway:left': 'lane', 'hgv': 'designated',...</td>\n",
       "    </tr>\n",
       "    <tr>\n",
       "      <th>3</th>\n",
       "      <td>LINESTRING (-73.99409 40.72034, -73.99419 40.7...</td>\n",
       "      <td>5669892</td>\n",
       "      <td>way</td>\n",
       "      <td>2021-01-10T01:27:47Z</td>\n",
       "      <td>17</td>\n",
       "      <td>97233821</td>\n",
       "      <td>kguenther24</td>\n",
       "      <td>11697944</td>\n",
       "      <td>[42429752, 5296795596, 8231909737, 42430030, 8...</td>\n",
       "      <td>{'hgv': 'designated', 'highway': 'primary', 'm...</td>\n",
       "    </tr>\n",
       "    <tr>\n",
       "      <th>4</th>\n",
       "      <td>LINESTRING (-74.01284 40.70244, -74.01288 40.7...</td>\n",
       "      <td>5669933</td>\n",
       "      <td>way</td>\n",
       "      <td>2020-07-05T15:51:59Z</td>\n",
       "      <td>14</td>\n",
       "      <td>87558925</td>\n",
       "      <td>grid1811plan</td>\n",
       "      <td>9272243</td>\n",
       "      <td>[42426747, 2034011049, 1772058064, 2034011044,...</td>\n",
       "      <td>{'1': '2', 'hgv': 'local', 'highway': 'primary...</td>\n",
       "    </tr>\n",
       "    <tr>\n",
       "      <th>...</th>\n",
       "      <td>...</td>\n",
       "      <td>...</td>\n",
       "      <td>...</td>\n",
       "      <td>...</td>\n",
       "      <td>...</td>\n",
       "      <td>...</td>\n",
       "      <td>...</td>\n",
       "      <td>...</td>\n",
       "      <td>...</td>\n",
       "      <td>...</td>\n",
       "    </tr>\n",
       "    <tr>\n",
       "      <th>1330</th>\n",
       "      <td>LINESTRING (-73.97928 40.78184, -73.97882 40.7...</td>\n",
       "      <td>895398384</td>\n",
       "      <td>way</td>\n",
       "      <td>2021-01-15T03:44:43Z</td>\n",
       "      <td>1</td>\n",
       "      <td>97525378</td>\n",
       "      <td>Sparks</td>\n",
       "      <td>80285</td>\n",
       "      <td>[42438862, 42428063, 6929267036]</td>\n",
       "      <td>{'hgv': 'local', 'highway': 'primary', 'lanes'...</td>\n",
       "    </tr>\n",
       "    <tr>\n",
       "      <th>1331</th>\n",
       "      <td>LINESTRING (-73.97863 40.78274, -73.97833 40.7...</td>\n",
       "      <td>895398385</td>\n",
       "      <td>way</td>\n",
       "      <td>2021-01-15T03:44:43Z</td>\n",
       "      <td>1</td>\n",
       "      <td>97525378</td>\n",
       "      <td>Sparks</td>\n",
       "      <td>80285</td>\n",
       "      <td>[6929267036, 42442463]</td>\n",
       "      <td>{'hgv': 'local', 'highway': 'primary', 'lanes'...</td>\n",
       "    </tr>\n",
       "    <tr>\n",
       "      <th>1332</th>\n",
       "      <td>LINESTRING (-73.98626 40.72229, -73.98639 40.7...</td>\n",
       "      <td>903593425</td>\n",
       "      <td>way</td>\n",
       "      <td>2021-02-03T22:19:21Z</td>\n",
       "      <td>1</td>\n",
       "      <td>98668660</td>\n",
       "      <td>TheBestIdea</td>\n",
       "      <td>298513</td>\n",
       "      <td>[42455039, 4598752856, 5783020909, 4478001045]</td>\n",
       "      <td>{'cycleway:right': 'lane', 'hgv': 'destination...</td>\n",
       "    </tr>\n",
       "    <tr>\n",
       "      <th>1333</th>\n",
       "      <td>LINESTRING (-73.99024 40.72350, -73.99035 40.7...</td>\n",
       "      <td>903593426</td>\n",
       "      <td>way</td>\n",
       "      <td>2021-02-03T22:19:21Z</td>\n",
       "      <td>1</td>\n",
       "      <td>98668660</td>\n",
       "      <td>TheBestIdea</td>\n",
       "      <td>298513</td>\n",
       "      <td>[42451665, 5783028393, 3927743131, 4776041130]</td>\n",
       "      <td>{'cycleway:right': 'lane', 'hgv': 'designated'...</td>\n",
       "    </tr>\n",
       "    <tr>\n",
       "      <th>1334</th>\n",
       "      <td>LINESTRING (-73.99249 40.71387, -73.99250 40.7...</td>\n",
       "      <td>904809348</td>\n",
       "      <td>way</td>\n",
       "      <td>2021-02-07T19:45:13Z</td>\n",
       "      <td>1</td>\n",
       "      <td>98863595</td>\n",
       "      <td>daniel_solow</td>\n",
       "      <td>1954307</td>\n",
       "      <td>[42433545, 8307641617, 7480301985, 5796726888]</td>\n",
       "      <td>{'hgv': 'local', 'highway': 'primary', 'maxspe...</td>\n",
       "    </tr>\n",
       "  </tbody>\n",
       "</table>\n",
       "<p>1335 rows × 10 columns</p>\n",
       "</div>"
      ],
      "text/plain": [
       "                                               geometry         id type  \\\n",
       "0     LINESTRING (-73.93422 40.80683, -73.93451 40.8...    5669595  way   \n",
       "1     LINESTRING (-73.93942 40.84173, -73.93959 40.8...    5669799  way   \n",
       "2     LINESTRING (-73.99217 40.71968, -73.99209 40.7...    5669857  way   \n",
       "3     LINESTRING (-73.99409 40.72034, -73.99419 40.7...    5669892  way   \n",
       "4     LINESTRING (-74.01284 40.70244, -74.01288 40.7...    5669933  way   \n",
       "...                                                 ...        ...  ...   \n",
       "1330  LINESTRING (-73.97928 40.78184, -73.97882 40.7...  895398384  way   \n",
       "1331  LINESTRING (-73.97863 40.78274, -73.97833 40.7...  895398385  way   \n",
       "1332  LINESTRING (-73.98626 40.72229, -73.98639 40.7...  903593425  way   \n",
       "1333  LINESTRING (-73.99024 40.72350, -73.99035 40.7...  903593426  way   \n",
       "1334  LINESTRING (-73.99249 40.71387, -73.99250 40.7...  904809348  way   \n",
       "\n",
       "                 timestamp  version  changeset               user       uid  \\\n",
       "0     2020-12-29T20:08:01Z       20   96622711        Fluffy89502  10165657   \n",
       "1     2021-01-15T23:57:23Z       34   97586941  Mateusz Konieczny   1722488   \n",
       "2     2021-01-10T01:27:47Z       29   97233821        kguenther24  11697944   \n",
       "3     2021-01-10T01:27:47Z       17   97233821        kguenther24  11697944   \n",
       "4     2020-07-05T15:51:59Z       14   87558925       grid1811plan   9272243   \n",
       "...                    ...      ...        ...                ...       ...   \n",
       "1330  2021-01-15T03:44:43Z        1   97525378             Sparks     80285   \n",
       "1331  2021-01-15T03:44:43Z        1   97525378             Sparks     80285   \n",
       "1332  2021-02-03T22:19:21Z        1   98668660        TheBestIdea    298513   \n",
       "1333  2021-02-03T22:19:21Z        1   98668660        TheBestIdea    298513   \n",
       "1334  2021-02-07T19:45:13Z        1   98863595       daniel_solow   1954307   \n",
       "\n",
       "                                                  nodes  \\\n",
       "0     [371337140, 3786741766, 3786741765, 3786741764...   \n",
       "1                              [2499757467, 7132814245]   \n",
       "2        [486867432, 8231896494, 8307642254, 486867405]   \n",
       "3     [42429752, 5296795596, 8231909737, 42430030, 8...   \n",
       "4     [42426747, 2034011049, 1772058064, 2034011044,...   \n",
       "...                                                 ...   \n",
       "1330                   [42438862, 42428063, 6929267036]   \n",
       "1331                             [6929267036, 42442463]   \n",
       "1332     [42455039, 4598752856, 5783020909, 4478001045]   \n",
       "1333     [42451665, 5783028393, 3927743131, 4776041130]   \n",
       "1334     [42433545, 8307641617, 7480301985, 5796726888]   \n",
       "\n",
       "                                                   tags  \n",
       "0     {'destination:street': '2nd Avenue', 'hgv': 'l...  \n",
       "1     {'cycleway:right': 'lane', 'hgv': 'local', 'hi...  \n",
       "2     {'cycleway:left': 'lane', 'hgv': 'designated',...  \n",
       "3     {'hgv': 'designated', 'highway': 'primary', 'm...  \n",
       "4     {'1': '2', 'hgv': 'local', 'highway': 'primary...  \n",
       "...                                                 ...  \n",
       "1330  {'hgv': 'local', 'highway': 'primary', 'lanes'...  \n",
       "1331  {'hgv': 'local', 'highway': 'primary', 'lanes'...  \n",
       "1332  {'cycleway:right': 'lane', 'hgv': 'destination...  \n",
       "1333  {'cycleway:right': 'lane', 'hgv': 'designated'...  \n",
       "1334  {'hgv': 'local', 'highway': 'primary', 'maxspe...  \n",
       "\n",
       "[1335 rows x 10 columns]"
      ]
     },
     "execution_count": 10,
     "metadata": {},
     "output_type": "execute_result"
    }
   ],
   "source": [
    "roads_gdf_meta = osm_Data_roads_meta.get_osm_gdf()\n",
    "roads_gdf_meta"
   ]
  },
  {
   "cell_type": "markdown",
   "metadata": {},
   "source": [
    "## 4.3 Visualize gdf:"
   ]
  },
  {
   "cell_type": "code",
   "execution_count": 11,
   "metadata": {
    "scrolled": false
   },
   "outputs": [
    {
     "data": {
      "text/html": [
       "\n",
       "        <iframe\n",
       "            width=\"100%\"\n",
       "            height=\"750px\"\n",
       "            src=\"index.html\"\n",
       "            frameborder=\"0\"\n",
       "            allowfullscreen\n",
       "        ></iframe>\n",
       "        "
      ],
      "text/plain": [
       "<osmUtils.osmVisualize.OsmVisualize at 0x7ff87ac00eb0>"
      ]
     },
     "execution_count": 11,
     "metadata": {},
     "output_type": "execute_result"
    }
   ],
   "source": [
    "#visualize the data retrieved\n",
    "osmu.OsmVisualize(roads_gdf, color='#a7a9ab')"
   ]
  },
  {
   "cell_type": "code",
   "execution_count": 12,
   "metadata": {},
   "outputs": [
    {
     "data": {
      "text/html": [
       "\n",
       "        <iframe\n",
       "            width=\"100%\"\n",
       "            height=\"750px\"\n",
       "            src=\"index.html\"\n",
       "            frameborder=\"0\"\n",
       "            allowfullscreen\n",
       "        ></iframe>\n",
       "        "
      ],
      "text/plain": [
       "<osmUtils.osmVisualize.OsmVisualize at 0x7ff87acab610>"
      ]
     },
     "execution_count": 12,
     "metadata": {},
     "output_type": "execute_result"
    }
   ],
   "source": [
    "#visualize the data with metadata\n",
    "osmu.OsmVisualize(roads_gdf_meta, color='#a7a9ab')"
   ]
  },
  {
   "cell_type": "markdown",
   "metadata": {},
   "source": [
    "## 4.4 Save gdf\n",
    "\n",
    "Saves the retrieved data in a local data file (path = './data'). The save_gdf_to_file class has been built on top of geopandas."
   ]
  },
  {
   "cell_type": "code",
   "execution_count": 16,
   "metadata": {},
   "outputs": [],
   "source": [
    "import geopandas as gpd"
   ]
  },
  {
   "cell_type": "code",
   "execution_count": 13,
   "metadata": {},
   "outputs": [],
   "source": [
    "osm_Data_roads.save_gdf_to_file(\n",
    "    filename='osm_data',\n",
    "    driver='ESRI Shapefile',\n",
    ")"
   ]
  },
  {
   "cell_type": "code",
   "execution_count": 15,
   "metadata": {},
   "outputs": [
    {
     "name": "stdout",
     "output_type": "stream",
     "text": [
      "osm_data.cpg  osm_data.dbf  osm_data.shp  osm_data.shx\r\n"
     ]
    }
   ],
   "source": [
    "!ls data"
   ]
  },
  {
   "cell_type": "code",
   "execution_count": 18,
   "metadata": {},
   "outputs": [
    {
     "data": {
      "text/html": [
       "<div>\n",
       "<style scoped>\n",
       "    .dataframe tbody tr th:only-of-type {\n",
       "        vertical-align: middle;\n",
       "    }\n",
       "\n",
       "    .dataframe tbody tr th {\n",
       "        vertical-align: top;\n",
       "    }\n",
       "\n",
       "    .dataframe thead th {\n",
       "        text-align: right;\n",
       "    }\n",
       "</style>\n",
       "<table border=\"1\" class=\"dataframe\">\n",
       "  <thead>\n",
       "    <tr style=\"text-align: right;\">\n",
       "      <th></th>\n",
       "      <th>id</th>\n",
       "      <th>geometry</th>\n",
       "    </tr>\n",
       "  </thead>\n",
       "  <tbody>\n",
       "    <tr>\n",
       "      <th>0</th>\n",
       "      <td>5669595</td>\n",
       "      <td>LINESTRING (-73.93422 40.80683, -73.93451 40.8...</td>\n",
       "    </tr>\n",
       "    <tr>\n",
       "      <th>1</th>\n",
       "      <td>5669799</td>\n",
       "      <td>LINESTRING (-73.93942 40.84173, -73.93959 40.8...</td>\n",
       "    </tr>\n",
       "    <tr>\n",
       "      <th>2</th>\n",
       "      <td>5669857</td>\n",
       "      <td>LINESTRING (-73.99217 40.71968, -73.99209 40.7...</td>\n",
       "    </tr>\n",
       "    <tr>\n",
       "      <th>3</th>\n",
       "      <td>5669892</td>\n",
       "      <td>LINESTRING (-73.99409 40.72034, -73.99419 40.7...</td>\n",
       "    </tr>\n",
       "    <tr>\n",
       "      <th>4</th>\n",
       "      <td>5669933</td>\n",
       "      <td>LINESTRING (-74.01284 40.70244, -74.01288 40.7...</td>\n",
       "    </tr>\n",
       "    <tr>\n",
       "      <th>...</th>\n",
       "      <td>...</td>\n",
       "      <td>...</td>\n",
       "    </tr>\n",
       "    <tr>\n",
       "      <th>1330</th>\n",
       "      <td>895398384</td>\n",
       "      <td>LINESTRING (-73.97928 40.78184, -73.97882 40.7...</td>\n",
       "    </tr>\n",
       "    <tr>\n",
       "      <th>1331</th>\n",
       "      <td>895398385</td>\n",
       "      <td>LINESTRING (-73.97863 40.78274, -73.97833 40.7...</td>\n",
       "    </tr>\n",
       "    <tr>\n",
       "      <th>1332</th>\n",
       "      <td>903593425</td>\n",
       "      <td>LINESTRING (-73.98626 40.72229, -73.98639 40.7...</td>\n",
       "    </tr>\n",
       "    <tr>\n",
       "      <th>1333</th>\n",
       "      <td>903593426</td>\n",
       "      <td>LINESTRING (-73.99024 40.72350, -73.99035 40.7...</td>\n",
       "    </tr>\n",
       "    <tr>\n",
       "      <th>1334</th>\n",
       "      <td>904809348</td>\n",
       "      <td>LINESTRING (-73.99249 40.71387, -73.99250 40.7...</td>\n",
       "    </tr>\n",
       "  </tbody>\n",
       "</table>\n",
       "<p>1335 rows × 2 columns</p>\n",
       "</div>"
      ],
      "text/plain": [
       "             id                                           geometry\n",
       "0       5669595  LINESTRING (-73.93422 40.80683, -73.93451 40.8...\n",
       "1       5669799  LINESTRING (-73.93942 40.84173, -73.93959 40.8...\n",
       "2       5669857  LINESTRING (-73.99217 40.71968, -73.99209 40.7...\n",
       "3       5669892  LINESTRING (-73.99409 40.72034, -73.99419 40.7...\n",
       "4       5669933  LINESTRING (-74.01284 40.70244, -74.01288 40.7...\n",
       "...         ...                                                ...\n",
       "1330  895398384  LINESTRING (-73.97928 40.78184, -73.97882 40.7...\n",
       "1331  895398385  LINESTRING (-73.97863 40.78274, -73.97833 40.7...\n",
       "1332  903593425  LINESTRING (-73.98626 40.72229, -73.98639 40.7...\n",
       "1333  903593426  LINESTRING (-73.99024 40.72350, -73.99035 40.7...\n",
       "1334  904809348  LINESTRING (-73.99249 40.71387, -73.99250 40.7...\n",
       "\n",
       "[1335 rows x 2 columns]"
      ]
     },
     "execution_count": 18,
     "metadata": {},
     "output_type": "execute_result"
    }
   ],
   "source": [
    "gpd.read_file('./data/osm_data.shp')"
   ]
  },
  {
   "cell_type": "markdown",
   "metadata": {},
   "source": []
  }
 ],
 "metadata": {
  "kernelspec": {
   "display_name": "Python 3",
   "language": "python",
   "name": "python3"
  },
  "language_info": {
   "codemirror_mode": {
    "name": "ipython",
    "version": 3
   },
   "file_extension": ".py",
   "mimetype": "text/x-python",
   "name": "python",
   "nbconvert_exporter": "python",
   "pygments_lexer": "ipython3",
   "version": "3.8.1"
  }
 },
 "nbformat": 4,
 "nbformat_minor": 4
}
