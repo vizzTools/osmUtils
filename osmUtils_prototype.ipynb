{
 "cells": [
  {
   "cell_type": "markdown",
   "metadata": {},
   "source": [
    "# OSMUtils Examples\n",
    "\n",
    "When developing, to test newly saved code:\n",
    "\n",
    "- restart kernel\n",
    "- after each save in the command line use: `!pip install -e .` to install osmUtils from local directory\n",
    "- if this imports with no issues, the code it good!\n",
    "- then re-import osmUtils\n"
   ]
  },
  {
   "cell_type": "code",
   "execution_count": 1,
   "metadata": {},
   "outputs": [
    {
     "name": "stderr",
     "output_type": "stream",
     "text": [
      "/Users/vizzuality/anaconda3/lib/python3.6/site-packages/geopandas/_compat.py:88: UserWarning: The Shapely GEOS version (3.7.2-CAPI-1.11.2 b55d2125) is incompatible with the GEOS version PyGEOS was compiled with (3.8.1-CAPI-1.13.3). Conversions between both will be slow.\n",
      "  shapely_geos_version, geos_capi_version_string\n"
     ]
    },
    {
     "name": "stdout",
     "output_type": "stream",
     "text": [
      "osmUtils ver. 0.0.1 ready!\n"
     ]
    }
   ],
   "source": [
    "!pip install -e .\n",
    "\n",
    "from IPython.display import clear_output\n",
    "clear_output()\n",
    "\n",
    "import osmUtils as osmu\n",
    "from osmUtils import utils_geo, utils_osm, utils_map\n",
    "\n",
    "print(f'osmUtils ver. {osmu.__version__} ready!')"
   ]
  },
  {
   "cell_type": "markdown",
   "metadata": {},
   "source": [
    "#### ### Instantiate osmCol Object"
   ]
  },
  {
   "cell_type": "code",
   "execution_count": 2,
   "metadata": {},
   "outputs": [
    {
     "data": {
      "text/html": [
       "<div style=\"width:100%;\"><div style=\"position:relative;width:100%;height:0;padding-bottom:60%;\"><iframe src=\"data:text/html;charset=utf-8;base64,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\" style=\"position:absolute;width:100%;height:100%;left:0;top:0;border:none !important;\" allowfullscreen webkitallowfullscreen mozallowfullscreen></iframe></div></div>"
      ],
      "text/plain": [
       "<folium.folium.Map at 0x7fb978adab70>"
      ]
     },
     "execution_count": 2,
     "metadata": {},
     "output_type": "execute_result"
    }
   ],
   "source": [
    "import LMIPy as lmi #Docs https://lmipy.readthedocs.io/en/latest/quickstart.html#From-Political-Boundaries\n",
    "\n",
    "params={\n",
    "    'iso': 'USA',\n",
    "    'adm1': 33,\n",
    "    'adm2': 32\n",
    "}\n",
    "\n",
    "ny_geom = lmi.Geometry(parameters=params)\n",
    "ny_geom.map()"
   ]
  },
  {
   "cell_type": "code",
   "execution_count": 3,
   "metadata": {},
   "outputs": [],
   "source": [
    "geom = ny_geom.shape()"
   ]
  },
  {
   "cell_type": "code",
   "execution_count": 4,
   "metadata": {},
   "outputs": [
    {
     "data": {
      "text/plain": [
       "[<shapely.geometry.multipolygon.MultiPolygon at 0x7fb978adab00>]"
      ]
     },
     "execution_count": 4,
     "metadata": {},
     "output_type": "execute_result"
    }
   ],
   "source": [
    "geom"
   ]
  },
  {
   "cell_type": "code",
   "execution_count": 5,
   "metadata": {},
   "outputs": [
    {
     "name": "stderr",
     "output_type": "stream",
     "text": [
      "/Users/vizzuality/Workspace/vizzTools/osmUtils/osmUtils/utils_geo.py:94: SettingWithCopyWarning: \n",
      "A value is trying to be set on a copy of a slice from a DataFrame.\n",
      "Try using .loc[row_indexer,col_indexer] = value instead\n",
      "\n",
      "See the caveats in the documentation: https://pandas.pydata.org/pandas-docs/stable/user_guide/indexing.html#returning-a-view-versus-a-copy\n",
      "  manifest['exclude'] = 0\n",
      "/Users/vizzuality/Workspace/vizzTools/osmUtils/osmUtils/utils_geo.py:95: SettingWithCopyWarning: \n",
      "A value is trying to be set on a copy of a slice from a DataFrame.\n",
      "Try using .loc[row_indexer,col_indexer] = value instead\n",
      "\n",
      "See the caveats in the documentation: https://pandas.pydata.org/pandas-docs/stable/user_guide/indexing.html#returning-a-view-versus-a-copy\n",
      "  manifest['exported'] = 0\n",
      "/Users/vizzuality/Workspace/vizzTools/osmUtils/osmUtils/utils_geo.py:96: SettingWithCopyWarning: \n",
      "A value is trying to be set on a copy of a slice from a DataFrame.\n",
      "Try using .loc[row_indexer,col_indexer] = value instead\n",
      "\n",
      "See the caveats in the documentation: https://pandas.pydata.org/pandas-docs/stable/user_guide/indexing.html#returning-a-view-versus-a-copy\n",
      "  manifest['uploaded'] = 0\n"
     ]
    }
   ],
   "source": [
    "col = osmu.CollectionOsm(geometry=geom[0], zoom=5, crs=None, geom_tiles=False)"
   ]
  },
  {
   "cell_type": "code",
   "execution_count": 6,
   "metadata": {},
   "outputs": [
    {
     "data": {
      "text/html": [
       "<div>\n",
       "<style scoped>\n",
       "    .dataframe tbody tr th:only-of-type {\n",
       "        vertical-align: middle;\n",
       "    }\n",
       "\n",
       "    .dataframe tbody tr th {\n",
       "        vertical-align: top;\n",
       "    }\n",
       "\n",
       "    .dataframe thead th {\n",
       "        text-align: right;\n",
       "    }\n",
       "</style>\n",
       "<table border=\"1\" class=\"dataframe\">\n",
       "  <thead>\n",
       "    <tr style=\"text-align: right;\">\n",
       "      <th></th>\n",
       "      <th>id</th>\n",
       "      <th>geometry</th>\n",
       "      <th>exclude</th>\n",
       "      <th>exported</th>\n",
       "      <th>uploaded</th>\n",
       "    </tr>\n",
       "  </thead>\n",
       "  <tbody>\n",
       "    <tr>\n",
       "      <th>300</th>\n",
       "      <td>0.0</td>\n",
       "      <td>POLYGON ((-73.98656 40.79379, -73.96997 40.816...</td>\n",
       "      <td>0</td>\n",
       "      <td>0</td>\n",
       "      <td>0</td>\n",
       "    </tr>\n",
       "  </tbody>\n",
       "</table>\n",
       "</div>"
      ],
      "text/plain": [
       "      id                                           geometry  exclude  \\\n",
       "300  0.0  POLYGON ((-73.98656 40.79379, -73.96997 40.816...        0   \n",
       "\n",
       "     exported  uploaded  \n",
       "300         0         0  "
      ]
     },
     "execution_count": 6,
     "metadata": {},
     "output_type": "execute_result"
    }
   ],
   "source": [
    "manifest = col.manifest\n",
    "manifest"
   ]
  },
  {
   "cell_type": "code",
   "execution_count": 7,
   "metadata": {},
   "outputs": [],
   "source": [
    "geometry = manifest.iloc[0].geometry"
   ]
  },
  {
   "cell_type": "code",
   "execution_count": 8,
   "metadata": {},
   "outputs": [
    {
     "name": "stdout",
     "output_type": "stream",
     "text": [
      "\n",
      "Fetching OSM\n",
      "Geometry coordines converted into string\n",
      "40.793789 -73.986557 40.816410 -73.969971 40.878582 -73.935776 40.873779 -73.912819 40.869671 -73.910477 40.865139 -73.911194 40.848961 -73.923706 40.839039 -73.928787 40.820950 -73.932831 40.807751 -73.929466 40.800861 -73.921158 40.796062 -73.926941 40.798611 -73.928055 40.794693 -73.929733 40.790791 -73.935997 40.785816 -73.938477 40.782265 -73.944374 40.775070 -73.942085 40.755520 -73.961861 40.743332 -73.971664 40.733124 -73.974426 40.726395 -73.971703 40.711445 -73.976868 40.709469 -73.982132 40.709049 -73.994286 40.706284 -74.000000 40.707291 -74.000275 40.704948 -74.001114 40.702339 -74.005180 40.700851 -74.015480 40.705956 -74.019958 40.715279 -74.017502 40.714443 -74.024261 40.759029 -74.013000 40.793789 -73.986557\n",
      "[out:json][timeout:180];(way[\"highway\"][!\"tunnel\"][\"area\"!=\"yes\"][\"highway\"!~\"cycleway|footway|path|pedestrian|steps|track|corridor|elevator|escalator|proposed|bridleway|abandoned|platform\"](poly:\"40.793789 -73.986557 40.816410 -73.969971 40.878582 -73.935776 40.873779 -73.912819 40.869671 -73.910477 40.865139 -73.911194 40.848961 -73.923706 40.839039 -73.928787 40.820950 -73.932831 40.807751 -73.929466 40.800861 -73.921158 40.796062 -73.926941 40.798611 -73.928055 40.794693 -73.929733 40.790791 -73.935997 40.785816 -73.938477 40.782265 -73.944374 40.775070 -73.942085 40.755520 -73.961861 40.743332 -73.971664 40.733124 -73.974426 40.726395 -73.971703 40.711445 -73.976868 40.709469 -73.982132 40.709049 -73.994286 40.706284 -74.000000 40.707291 -74.000275 40.704948 -74.001114 40.702339 -74.005180 40.700851 -74.015480 40.705956 -74.019958 40.715279 -74.017502 40.714443 -74.024261 40.759029 -74.013000 40.793789 -73.986557\");>;);out;\n",
      "Requesting data within polygon from API in 734 request(s)\n",
      "Pausing 1 seconds before making API POST request\n",
      "Posting to http://overpass-api.de/api/interpreter with timeout=180, \"{'data': '[out:json][timeout:180];(way[\"highway\"][!\"tunnel\"][\"area\"!=\"yes\"][\"highway\"!~\"cycleway|footway|path|pedestrian|steps|track|corridor|elevator|escalator|proposed|bridleway|abandoned|platform\"](poly:\"40.793789 -73.986557 40.816410 -73.969971 40.878582 -73.935776 40.873779 -73.912819 40.869671 -73.910477 40.865139 -73.911194 40.848961 -73.923706 40.839039 -73.928787 40.820950 -73.932831 40.807751 -73.929466 40.800861 -73.921158 40.796062 -73.926941 40.798611 -73.928055 40.794693 -73.929733 40.790791 -73.935997 40.785816 -73.938477 40.782265 -73.944374 40.775070 -73.942085 40.755520 -73.961861 40.743332 -73.971664 40.733124 -73.974426 40.726395 -73.971703 40.711445 -73.976868 40.709469 -73.982132 40.709049 -73.994286 40.706284 -74.000000 40.707291 -74.000275 40.704948 -74.001114 40.702339 -74.005180 40.700851 -74.015480 40.705956 -74.019958 40.715279 -74.017502 40.714443 -74.024261 40.759029 -74.013000 40.793789 -73.986557\");>;);out;'}\"\n",
      "Data retrieve succesfully!\n"
     ]
    }
   ],
   "source": [
    "osm_Data = osmu.OsmDownload(\n",
    "    geometry,\n",
    "    osm_type='all_roads',\n",
    "    custom_filter=None,\n",
    "    output_path=None,\n",
    ")"
   ]
  },
  {
   "cell_type": "code",
   "execution_count": 9,
   "metadata": {},
   "outputs": [
    {
     "data": {
      "text/plain": [
       "1"
      ]
     },
     "execution_count": 9,
     "metadata": {},
     "output_type": "execute_result"
    }
   ],
   "source": [
    "response = osm_Data.osm_json\n",
    "len(response)"
   ]
  },
  {
   "cell_type": "code",
   "execution_count": 10,
   "metadata": {
    "scrolled": true
   },
   "outputs": [
    {
     "data": {
      "text/html": [
       "<div>\n",
       "<style scoped>\n",
       "    .dataframe tbody tr th:only-of-type {\n",
       "        vertical-align: middle;\n",
       "    }\n",
       "\n",
       "    .dataframe tbody tr th {\n",
       "        vertical-align: top;\n",
       "    }\n",
       "\n",
       "    .dataframe thead th {\n",
       "        text-align: right;\n",
       "    }\n",
       "</style>\n",
       "<table border=\"1\" class=\"dataframe\">\n",
       "  <thead>\n",
       "    <tr style=\"text-align: right;\">\n",
       "      <th></th>\n",
       "      <th>geometry</th>\n",
       "    </tr>\n",
       "  </thead>\n",
       "  <tbody>\n",
       "    <tr>\n",
       "      <th>0</th>\n",
       "      <td>LINESTRING (-73.96042 40.79821, -73.96071 40.7...</td>\n",
       "    </tr>\n",
       "    <tr>\n",
       "      <th>1</th>\n",
       "      <td>LINESTRING (-73.98201 40.78559, -73.98068 40.7...</td>\n",
       "    </tr>\n",
       "    <tr>\n",
       "      <th>2</th>\n",
       "      <td>LINESTRING (-73.93133 40.85930, -73.93115 40.8...</td>\n",
       "    </tr>\n",
       "    <tr>\n",
       "      <th>3</th>\n",
       "      <td>LINESTRING (-73.98107 40.78851, -73.97883 40.7...</td>\n",
       "    </tr>\n",
       "    <tr>\n",
       "      <th>4</th>\n",
       "      <td>LINESTRING (-73.97531 40.72654, -73.97574 40.7...</td>\n",
       "    </tr>\n",
       "  </tbody>\n",
       "</table>\n",
       "</div>"
      ],
      "text/plain": [
       "                                            geometry\n",
       "0  LINESTRING (-73.96042 40.79821, -73.96071 40.7...\n",
       "1  LINESTRING (-73.98201 40.78559, -73.98068 40.7...\n",
       "2  LINESTRING (-73.93133 40.85930, -73.93115 40.8...\n",
       "3  LINESTRING (-73.98107 40.78851, -73.97883 40.7...\n",
       "4  LINESTRING (-73.97531 40.72654, -73.97574 40.7..."
      ]
     },
     "execution_count": 10,
     "metadata": {},
     "output_type": "execute_result"
    }
   ],
   "source": [
    "osm_df = osm_Data.osm_gdf\n",
    "osm_df.head()"
   ]
  },
  {
   "cell_type": "code",
   "execution_count": 11,
   "metadata": {},
   "outputs": [],
   "source": [
    "### Simplification and Precision functions for GeodataFrame\n",
    "\n",
    "import geopandas as gpd\n",
    "\n",
    "from shapely.wkt import loads, dumps\n",
    "\n",
    "def point_round(point, precision):\n",
    "    return loads(dumps(point, rounding_precision=precision))\n",
    "\n",
    "def reduce_precision(df, precision=5):\n",
    "    _df = df.copy()\n",
    "    _df.geometry.apply(lambda x: point_round(x, precision))\n",
    "    \n",
    "    return _df\n",
    "\n",
    "def simplify(df, tolerance=0.001):\n",
    "    _df = df.copy()\n",
    "    _df.geometry.simplify(tolerance=tolerance, preserve_topology=True)\n",
    "    \n",
    "    return _df\n",
    "\n"
   ]
  },
  {
   "cell_type": "code",
   "execution_count": 12,
   "metadata": {},
   "outputs": [
    {
     "data": {
      "text/html": [
       "<div>\n",
       "<style scoped>\n",
       "    .dataframe tbody tr th:only-of-type {\n",
       "        vertical-align: middle;\n",
       "    }\n",
       "\n",
       "    .dataframe tbody tr th {\n",
       "        vertical-align: top;\n",
       "    }\n",
       "\n",
       "    .dataframe thead th {\n",
       "        text-align: right;\n",
       "    }\n",
       "</style>\n",
       "<table border=\"1\" class=\"dataframe\">\n",
       "  <thead>\n",
       "    <tr style=\"text-align: right;\">\n",
       "      <th></th>\n",
       "      <th>geometry</th>\n",
       "    </tr>\n",
       "  </thead>\n",
       "  <tbody>\n",
       "    <tr>\n",
       "      <th>0</th>\n",
       "      <td>LINESTRING (-73.96042 40.79821, -73.96071 40.7...</td>\n",
       "    </tr>\n",
       "    <tr>\n",
       "      <th>1</th>\n",
       "      <td>LINESTRING (-73.98201 40.78559, -73.98068 40.7...</td>\n",
       "    </tr>\n",
       "    <tr>\n",
       "      <th>2</th>\n",
       "      <td>LINESTRING (-73.93133 40.85930, -73.93115 40.8...</td>\n",
       "    </tr>\n",
       "    <tr>\n",
       "      <th>3</th>\n",
       "      <td>LINESTRING (-73.98107 40.78851, -73.97883 40.7...</td>\n",
       "    </tr>\n",
       "    <tr>\n",
       "      <th>4</th>\n",
       "      <td>LINESTRING (-73.97531 40.72654, -73.97574 40.7...</td>\n",
       "    </tr>\n",
       "  </tbody>\n",
       "</table>\n",
       "</div>"
      ],
      "text/plain": [
       "                                            geometry\n",
       "0  LINESTRING (-73.96042 40.79821, -73.96071 40.7...\n",
       "1  LINESTRING (-73.98201 40.78559, -73.98068 40.7...\n",
       "2  LINESTRING (-73.93133 40.85930, -73.93115 40.8...\n",
       "3  LINESTRING (-73.98107 40.78851, -73.97883 40.7...\n",
       "4  LINESTRING (-73.97531 40.72654, -73.97574 40.7..."
      ]
     },
     "execution_count": 12,
     "metadata": {},
     "output_type": "execute_result"
    }
   ],
   "source": [
    "_osm_df = simplify(osm_df)\n",
    "_osm_df.head()"
   ]
  },
  {
   "cell_type": "markdown",
   "metadata": {},
   "source": [
    "## osmVisualise"
   ]
  },
  {
   "cell_type": "code",
   "execution_count": 15,
   "metadata": {},
   "outputs": [],
   "source": [
    "def embed_map(m):\n",
    "    \"\"\"Resolves Folium rendering in chrome+Jupyter issue\"\"\"\n",
    "    from IPython.display import IFrame\n",
    "    m.save('index.html')\n",
    "    return IFrame('index.html', width='100%', height='750px')\n"
   ]
  },
  {
   "cell_type": "code",
   "execution_count": 24,
   "metadata": {},
   "outputs": [
    {
     "data": {
      "text/html": [
       "\n",
       "        <iframe\n",
       "            width=\"100%\"\n",
       "            height=\"750px\"\n",
       "            src=\"index.html\"\n",
       "            frameborder=\"0\"\n",
       "            allowfullscreen\n",
       "        ></iframe>\n",
       "        "
      ],
      "text/plain": [
       "<IPython.lib.display.IFrame at 0x7fb978bfdcf8>"
      ]
     },
     "execution_count": 24,
     "metadata": {},
     "output_type": "execute_result"
    }
   ],
   "source": [
    "# NOTES: https://python-visualization.github.io/folium/quickstart.html\n",
    "## Example of taking a geodataframe and visualising via folium.\n",
    "## Note the optional max_features to slice no of features (subset)\n",
    "\n",
    "from shapely.geometry import box\n",
    "import folium\n",
    "import json\n",
    "\n",
    "gdf_projected = osm_df.set_crs('EPSG:3857')\n",
    "gjson_str = gdf_projected.to_json()\n",
    "gjson = json.loads(gjson_str)\n",
    "\n",
    "max_features = None\n",
    "max_index = (max_features and max_features <= len(gjson['features'])) or len(gjson['features'])\n",
    "features = gjson['features'][:max_index]\n",
    "\n",
    "bounds = bounds = list(osm_df.bounds.iloc[0])\n",
    "geom = box(bounds[0], bounds[1], bounds[2], bounds[3])\n",
    "\n",
    "\n",
    "zoom_start=12\n",
    "basemap='cartodbpositron'\n",
    "color='#f69'\n",
    "\n",
    "\n",
    "m = folium.Map(\n",
    "    location=[geom.centroid.y, geom.centroid.x],\n",
    "    zoom_start=zoom_start,\n",
    "    tiles=basemap\n",
    ")\n",
    "\n",
    "style_function = lambda x: {'color': color, 'weight':1, 'opacity':1}\n",
    "\n",
    "folium.GeoJson({\n",
    "  \"type\": \"FeatureCollection\",\n",
    "  \"features\": features\n",
    "}, style_function=style_function).add_to(m)\n",
    "\n",
    "embed_map(m)"
   ]
  },
  {
   "cell_type": "code",
   "execution_count": 23,
   "metadata": {},
   "outputs": [
    {
     "data": {
      "text/html": [
       "\n",
       "        <iframe\n",
       "            width=\"100%\"\n",
       "            height=\"750px\"\n",
       "            src=\"index.html\"\n",
       "            frameborder=\"0\"\n",
       "            allowfullscreen\n",
       "        ></iframe>\n",
       "        "
      ],
      "text/plain": [
       "<IPython.lib.display.IFrame at 0x7fb960ca7940>"
      ]
     },
     "execution_count": 23,
     "metadata": {},
     "output_type": "execute_result"
    }
   ],
   "source": [
    "# Using the osmVisualise class!\n",
    "\n",
    "viz = osmu.OsmVisualize(osm_df)\n",
    "m = viz.foilum_map\n",
    "\n",
    "embed_map(m)"
   ]
  },
  {
   "cell_type": "markdown",
   "metadata": {},
   "source": [
    "# Library Development"
   ]
  },
  {
   "cell_type": "markdown",
   "metadata": {},
   "source": [
    "## Example clean OSM pipeline"
   ]
  },
  {
   "cell_type": "code",
   "execution_count": null,
   "metadata": {},
   "outputs": [],
   "source": [
    "# import libraries\n",
    "import requests\n",
    "import geopandas as gpd\n",
    "import shapely.wkb"
   ]
  },
  {
   "cell_type": "code",
   "execution_count": null,
   "metadata": {},
   "outputs": [],
   "source": [
    "queryUrl = 'https://api.resourcewatch.org/v1/query/Politcial-Boundaries-GADM-adminitrative-level-1-1490086842541'\n",
    "#queryParams = {'sql': \"select the_geom, name_1 from gadm28_adm1 where iso='USA'\"}\n",
    "queryParams = {'sql': \"select * from gadm28_adm1 where name_1='New York'\"}\n",
    "resp = requests.get(queryUrl, queryParams)"
   ]
  },
  {
   "cell_type": "code",
   "execution_count": null,
   "metadata": {},
   "outputs": [],
   "source": [
    "for el in data:\n",
    "    geometry =  shapely.wkb.loads(el['the_geom'], hex=True)\n",
    "    name = el['name_1']\n",
    "    el['geometry']=geometry"
   ]
  },
  {
   "cell_type": "code",
   "execution_count": null,
   "metadata": {},
   "outputs": [],
   "source": [
    "gdf = gpd.GeoDataFrame(data)\n",
    "gdf.head()"
   ]
  },
  {
   "cell_type": "markdown",
   "metadata": {},
   "source": [
    "## Validate incomming geometry and tiles for manifest:"
   ]
  },
  {
   "cell_type": "code",
   "execution_count": null,
   "metadata": {
    "scrolled": true
   },
   "outputs": [],
   "source": [
    "#WE'RE GOING TO WORK WITH THE GEOMETRY OF THE ESTATE OF NEW YORK \n",
    "geometry = gdf['geometry'][0]\n",
    "geometry."
   ]
  },
  {
   "cell_type": "code",
   "execution_count": null,
   "metadata": {},
   "outputs": [],
   "source": [
    "geometry.to_wkt()"
   ]
  },
  {
   "cell_type": "code",
   "execution_count": null,
   "metadata": {},
   "outputs": [],
   "source": [
    "gdf['geojson'].iloc[0]"
   ]
  },
  {
   "cell_type": "markdown",
   "metadata": {},
   "source": [
    "## LIB:"
   ]
  },
  {
   "cell_type": "code",
   "execution_count": null,
   "metadata": {},
   "outputs": [],
   "source": [
    "geometry_df = gpd.GeoDataFrame(geometry)"
   ]
  },
  {
   "cell_type": "code",
   "execution_count": null,
   "metadata": {},
   "outputs": [],
   "source": [
    "geometry_df = geometry_df.set_geometry(0)\n",
    "geometry_df = geometry_df.rename(columns={0:'geometry'})\n",
    "geometry_df.head()"
   ]
  },
  {
   "cell_type": "code",
   "execution_count": null,
   "metadata": {},
   "outputs": [],
   "source": [
    "#import libraries for the generation of the manifest\n",
    "import mercantile as mt\n",
    "from shapely.geometry import shape\n",
    "import pandas as pd"
   ]
  },
  {
   "cell_type": "code",
   "execution_count": null,
   "metadata": {},
   "outputs": [],
   "source": [
    "zoom_levels = 6"
   ]
  },
  {
   "cell_type": "code",
   "execution_count": null,
   "metadata": {},
   "outputs": [],
   "source": [
    "## Create tiles df\n",
    "tiles = []\n",
    "for tile in mt.tiles(-180, -85, 180, 85, zoom_levels, truncate=False):\n",
    "    \n",
    "    tile_id = f\"{tile.z}_{tile.x}_{tile.y}\"\n",
    "    \n",
    "    geom = mt.feature(tile)['geometry']\n",
    "    polygon = shape(geom)\n",
    "    \n",
    "    tiles.append({\n",
    "        'tile_id': tile_id,\n",
    "        'geometry': polygon\n",
    "    })\n",
    "    \n",
    "# generate geodataframe with tiles\n",
    "tiles_df = gpd.GeoDataFrame(tiles)\n",
    "\n",
    "len(f'There are {tiles_df} tiles originally')\n"
   ]
  },
  {
   "cell_type": "code",
   "execution_count": null,
   "metadata": {},
   "outputs": [],
   "source": [
    "#check  projection tiles and geometry\n",
    "\n",
    "default_crs = \"EPSG:4326\"\n",
    "if geometry_df.crs is None:\n",
    "    #set crs\n",
    "    geometry_df = geometry_df.set_crs(default_crs)\n",
    "    \n",
    "    \n",
    "#check projection of tiles\n",
    "if tiles_df.crs is None:\n",
    "    tiles_df = tiles_df.set_crs(default_crs)\n",
    "    "
   ]
  },
  {
   "cell_type": "code",
   "execution_count": null,
   "metadata": {},
   "outputs": [],
   "source": [
    "# keep tiles that intersect with input geometry\n",
    "# Spatial join land and tiles, then remove rows without intersect\n",
    "\n",
    "geom_tiles = gpd.sjoin(tiles_df, geometry_df, how='left', op='intersects',  lsuffix='tiles', rsuffix='geom')\n",
    "\n",
    "## Keep only intersecting tile geoms\n",
    "manifest = geom_tiles[pd.notna(geom_tiles.geometry_geom)]\n",
    "#add the tracking information\n",
    "manifest['exclude'] = 0\n",
    "manifest['exported'] = 0\n",
    "manifest['uploaded'] = 0\n",
    "\n",
    "manifest.head()"
   ]
  },
  {
   "cell_type": "markdown",
   "metadata": {},
   "source": [
    "## Work in the lib:"
   ]
  },
  {
   "cell_type": "code",
   "execution_count": null,
   "metadata": {},
   "outputs": [],
   "source": [
    "import mercantile as mt\n",
    "import geopandas as gpd\n",
    "import pandas as pd\n",
    "from shapely.geometry import shape, MultiPolygon, Polygon"
   ]
  },
  {
   "cell_type": "code",
   "execution_count": null,
   "metadata": {},
   "outputs": [],
   "source": [
    "#class OsmCollection(object):\n",
    "#    def __init__(self, geometry=None, zoom=[5,7], **kwargs):\n",
    "#        self.geometry = geometry\n",
    "#        self.min_zoom, self.max_zoom = sorted(zoom)\n",
    "#        self.tiles = self.generate_tiles()\n",
    "#        ### Methods\n",
    "#        def generate_tiles(self):\n",
    "#            \"\"\"Generates tiles and ids\"\"\"\n",
    "#            return gdf\n",
    "#        def stage_requests(self, osm_request_config)\n",
    "#        \"\"\"\n",
    "#        - Iterate through self.tiles\n",
    "#        - optionally is_intersect? operation to remove unneeded tiles\n",
    "#        - intatiate OsmObj class fro each row in self.tiles\n",
    "#        \"\"\"\n",
    "#        ## obj = OsmObj(geom, tile, osm_request_config)\n",
    "#        self.something = \"List of OsmObj objects\"\n",
    "        \n",
    "class CollectionOsm:\n",
    "    \"\"\"\n",
    "    This is the main CollectionOsm class. This collection class will produce a tile manifest at an especific zoom level\n",
    "     to keep track of the OSM retrieving process.\n",
    "\n",
    "    Parameters\n",
    "    ----------\n",
    "    geometry: shapely.geometry.Polygon or shapely.geometry.MultiPolygon\n",
    "        geographic boundaries to fetch geometries within\n",
    "    zoom: int\n",
    "        zoom levels to generate the tiles\n",
    "    crs: str\n",
    "        the starting CRS of the passed-in geometry. if None, it will be set to \"EPSG:4326\"\n",
    "    manifest_geom: str\n",
    "        geometry to be mantained in the manifest. 'tile' will mantain the tile geoms in the manifest\n",
    "        while 'geom' will mantain the original geom.\n",
    "\n",
    "    \"\"\"\n",
    "    def __init__(self, geometry=None, zoom=5, crs=None, tile_geom=True, **kwargs):\n",
    "        \n",
    "        self.zoom = zoom\n",
    "        if crs is None:\n",
    "            self.crs = default_crs\n",
    "        else:\n",
    "            self.crs = crs\n",
    "        self.tiles = None\n",
    "        \n",
    "        #generate geometry gdf\n",
    "        self.geometry = self.geometry_to_gdf(geometry=geometry, crs=self.crs)\n",
    "        \n",
    "        if tile_geom:\n",
    "            self.tiles = self.generate_tiles(crs=self.crs)\n",
    "            \n",
    "        #generate manifest\n",
    "        self.manifest = self.generate_manifest(geometry=self.geometry, tiles=self.tiles)\n",
    "        \n",
    "            \n",
    "        #else:\n",
    "        #    #generate manifest for inserted geom\n",
    "        #    print('todo')\n",
    "            \n",
    "    #def __repr__(self):\n",
    "    #    return 'yes'\n",
    "    #\n",
    "        #methods\n",
    "        \n",
    "    def generate_tiles(self, crs):\n",
    "        \"\"\"\n",
    "        Generate tiles for the manifest.\n",
    "        \"\"\"\n",
    "\n",
    "        #generate tiles\n",
    "        tiles = []\n",
    "        for tile in mt.tiles(-180, -85, 180, 85, self.zoom, truncate=False):\n",
    "\n",
    "            tile_id = f\"{tile.z}_{tile.x}_{tile.y}\"\n",
    "\n",
    "            geom = mt.feature(tile)['geometry']\n",
    "            polygon = shape(geom)\n",
    "\n",
    "            tiles.append({\n",
    "                'tile_id': tile_id,\n",
    "                'geometry': polygon\n",
    "            })\n",
    "\n",
    "        # generate geodataframe with tiles\n",
    "        gdf = gpd.GeoDataFrame(tiles)\n",
    "        \n",
    "        #check projection \n",
    "        if gdf.crs is None:\n",
    "            gdf = self.set_crs(gdf, crs)\n",
    "\n",
    "        elif gdf.crs != self.crs:\n",
    "            gdf = self.reproject_gdf(gdf,crs)\n",
    "        return gdf\n",
    "    \n",
    "    def geometry_to_gdf(self,geometry, crs):\n",
    "        \"\"\"\n",
    "        Create GeoDataFrame from a (multi)polygon.\n",
    "        Parameters\n",
    "        ----------\n",
    "        geometry : shapely.geometry.Polygon or shapely.geometry.MultiPolygon\n",
    "            geographic boundaries to fetch geometries within\n",
    "        Returns\n",
    "        -------\n",
    "        gdf : geopandas.GeoDataFrame\n",
    "        \"\"\"\n",
    "        #check that incomming geometry is valid\n",
    "        if not geometry.is_valid:\n",
    "            print('The geometry is invalid')\n",
    "        #check that the geometry is a polygon or multipolygon\n",
    "        if not isinstance(geometry, (Polygon, MultiPolygon)):\n",
    "            print('The geometry must be a shapely.geometry.Polygon or shapely.geometry.MultiPolygon')\n",
    "    \n",
    "        #create gdf from the incomming geometry\n",
    "\n",
    "        gdf = gpd.GeoDataFrame(geometry)\n",
    "        gdf = gdf.set_geometry(0)\n",
    "        gdf = gdf.rename(columns={0:'geometry'})\n",
    "\n",
    "        if gdf.crs is None:\n",
    "            gdf = self.set_crs(gdf, crs)\n",
    "\n",
    "        elif gdf.crs != self.crs:\n",
    "            gdf = self.reproject_gdf(gdf,crs)\n",
    "\n",
    "        return gdf\n",
    "\n",
    "    def set_crs(self, gdf, crs):\n",
    "        \"\"\"\n",
    "        Set CRS in GeoDataFrame when current projection is not defined.\n",
    "        Parameters\n",
    "        ----------\n",
    "        gdf : geopandas.GeoDataFrame\n",
    "            the geodataframe to set the projection\n",
    "        Returns\n",
    "        -------\n",
    "        gdf : geopandas.GeoDataFrame\n",
    "            the geodataframe with the projection defined \"\"\"\n",
    "        gdf = gdf.set_crs(crs)\n",
    "        \n",
    "        return gdf\n",
    "\n",
    "    def reproject_gdf(self, gdf,to_crs):\n",
    "        \"\"\"Project a GeoDataFrame from its current CRS to another.\n",
    "        Parameters\n",
    "        ----------\n",
    "        gdf : geopandas.GeoDataFrame\n",
    "            the GeoDataFrame to be projected\n",
    "        to_crs : string \n",
    "            CRS to project the geodataframe\n",
    "        Returns\n",
    "        ----------\n",
    "        gdf_proj : geopandas.GeoDataFrame\n",
    "            the projected GeoDataFrame\"\"\"\n",
    "\n",
    "        gdf_proj = gdf.to_crs(epsg=to_crs)\n",
    "        return gdf_proj\n",
    "    \n",
    "    def generate_manifest(self, geometry, tiles):\n",
    "    \n",
    "        \"\"\"Generates a gedodataframe manifest to keep track of the osm retrieving process.\n",
    "            Parameters\n",
    "            ----------\n",
    "            geometry : geopandas.GeoDataFrame\n",
    "                the GeoDataFrame to be projected\n",
    "            tiles : geopandas.GeoDataFrame \n",
    "                tiles geodataframe to be intersected with the incomming geometry.\n",
    "                if None, it will produce a manifest just for the incomming geometry.\n",
    "            Returns\n",
    "            ----------\n",
    "            manifest : geopandas.GeoDataFrame\n",
    "                manifest geodataframe\"\"\"\n",
    "\n",
    "\n",
    "        if tiles is None:\n",
    "            #return manifest for geometry\n",
    "            geom_tiles = geometry\n",
    "        else:\n",
    "            geom_tiles = gpd.sjoin(tiles, geometry, how='left', op='intersects',  lsuffix='tiles', rsuffix='geom')\n",
    "\n",
    "        ## Keep only intersecting tile geoms\n",
    "        manifest = geom_tiles[pd.notna(geom_tiles.geometry_geom)]\n",
    "        #add the tracking information\n",
    "        manifest['exclude'] = 0\n",
    "        manifest['exported'] = 0\n",
    "        manifest['uploaded'] = 0\n",
    "\n",
    "        return manifest"
   ]
  },
  {
   "cell_type": "code",
   "execution_count": null,
   "metadata": {},
   "outputs": [],
   "source": [
    "osm_col = CollectionOsm(\n",
    "    geometry=geometry,\n",
    "    zoom=6,\n",
    "    crs='EPSG:4326',\n",
    "    tile_geom=True)\n",
    "osm_col"
   ]
  },
  {
   "cell_type": "code",
   "execution_count": null,
   "metadata": {},
   "outputs": [],
   "source": [
    "osm_col.manifest"
   ]
  },
  {
   "cell_type": "code",
   "execution_count": null,
   "metadata": {},
   "outputs": [],
   "source": []
  }
 ],
 "metadata": {
  "kernelspec": {
   "display_name": "Python 3",
   "language": "python",
   "name": "python3"
  },
  "language_info": {
   "codemirror_mode": {
    "name": "ipython",
    "version": 3
   },
   "file_extension": ".py",
   "mimetype": "text/x-python",
   "name": "python",
   "nbconvert_exporter": "python",
   "pygments_lexer": "ipython3",
   "version": "3.6.2"
  }
 },
 "nbformat": 4,
 "nbformat_minor": 4
}
